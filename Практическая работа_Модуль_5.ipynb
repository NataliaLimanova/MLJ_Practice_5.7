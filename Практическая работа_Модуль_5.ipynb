{
 "cells": [
  {
   "cell_type": "markdown",
   "id": "d805a8fc-5f62-4226-984a-53ac351aca4e",
   "metadata": {
    "id": "d805a8fc-5f62-4226-984a-53ac351aca4e"
   },
   "source": [
    "# Регуляризация линейной регрессии. Практическая работа\n",
    "\n",
    "## Цель практической работы\n",
    "\n",
    "Научиться строить модель линейной регрессии с регуляризацией на реальных данных.\n",
    "\n",
    "## Что входит в практическую работу\n",
    "\n",
    "1. Загрузить данные и ознакомиться с ними.\n",
    "2. Изучить данные и провести анализ, сконструировать новые признаки.\n",
    "3. Разделить данные на обучающую и тестовую выборки.\n",
    "4. Реализовать построение модели с помощью библиотеки Scikit-learn.\n",
    "5. Подобрать коэффициенты регуляризации.\n",
    "6. Получить качество модели с помощью MSE, MAE, $R^2$.\n",
    "7. Ответить на вопросы в конце блокнота.\n",
    "\n",
    "## Что оценивается\n",
    "\n",
    "- Выполнены все этапы работы.\n",
    "- Подобраны коэффициенты регуляризации.\n",
    "- Сделан вывод по результатам.\n",
    "- Модель не переобучена.\n",
    "- Получена модель хорошего качества.\n",
    "- Сделаны выводы в конце блокнота.\n",
    "\n",
    "## Как отправить работу на проверку\n",
    "\n",
    "Скачайте файл с заданиями в материалах, откройте его через Jupyter Notebook и выполните задания.\n",
    "\n",
    "## Задача\n",
    "\n",
    "С набором данных вы уже знакомы из прошлого модуля — это данные по продажам домов. В этот раз признаков будет чуть больше, чтобы вам было интереснее. Краткое описание признаков:\n",
    "\n",
    "* **LotArea** — размер участка в квадратных футах.\n",
    "* **LotArea_M** — размер участка в квадратных метрах.\n",
    "* **Street** — тип доступа к дороге.\n",
    "* **BldgType** — тип жилья.\n",
    "* **OverallQual** — общее качество материала и отделки.\n",
    "* **OverallCond** — общая оценка состояния.\n",
    "* **YearBuilt** — первоначальная дата постройки.\n",
    "* **YearRemodAdd** — дата реконструкции.\n",
    "* **RoofStyle** — тип крыши.\n",
    "* **ExterQual** — качество материалов снаружи.\n",
    "* **ExterCond** — текущее состояние материалов снаружи.\n",
    "* **Foundation** — тип фундамента.\n",
    "* **TotalBsmtSF** — общая площадь подвала в квадратных футах.\n",
    "* **TotalBsmtSF_M** — общая площадь подвала в квадратных метрах.\n",
    "* **Heating** — тип отопления.\n",
    "* **HeatingQC** — качество и состояние отопления.\n",
    "* **CentralAir** — кондиционирование.\n",
    "* **GrLivArea** — жилая площадь в квадратных футах.\n",
    "* **GrLivArea_M** — жилая площадь в квадратных метрах.\n",
    "* **Bath** — количество ванных комнат.\n",
    "* **KitchenQual** — качество кухни.\n",
    "* **GarageArea** — площадь гаража в квадратных футах.\n",
    "* **GarageArea_M** — площадь гаража в квадратных метрах.\n",
    "* **DateSold** — месяц и год продажи.\n",
    "* **SaleCondition** — условия сделки.\n",
    "* **SalePrice** — стоимость продажи в долларах. Это целевая переменная, которую нам нужно предсказать.\n",
    "\n",
    "Постройте модель линейной регрессии на этих данных. Проверьте качество модели на обучающей и тестовой выборках с помощью MAE, MSE, $R^2$. Определите, что модель не переобучилась."
   ]
  },
  {
   "cell_type": "markdown",
   "id": "9c2c7c33-6c9e-4e14-a6c0-dd9dde0ed1f8",
   "metadata": {
    "id": "9c2c7c33-6c9e-4e14-a6c0-dd9dde0ed1f8"
   },
   "source": [
    "## Задание 1\n",
    "\n",
    "Подключите необходимые библиотеки."
   ]
  },
  {
   "cell_type": "code",
   "execution_count": 57,
   "id": "da8a3481-f88b-48e1-86d8-903da04333c0",
   "metadata": {
    "colab": {
     "base_uri": "https://localhost:8080/"
    },
    "executionInfo": {
     "elapsed": 364,
     "status": "ok",
     "timestamp": 1718538040296,
     "user": {
      "displayName": "Yozhik31",
      "userId": "07739058683274005436"
     },
     "user_tz": -180
    },
    "id": "da8a3481-f88b-48e1-86d8-903da04333c0",
    "outputId": "6f493ab1-a21d-426d-f8e8-4e3b55553c9e"
   },
   "outputs": [
    {
     "name": "stderr",
     "output_type": "stream",
     "text": [
      "C:\\Users\\natau\\AppData\\Local\\Temp\\ipykernel_13392\\677587158.py:9: DeprecationWarning: Please use `gaussian_kde` from the `scipy.stats` namespace, the `scipy.stats.kde` namespace is deprecated.\n",
      "  from scipy.stats.kde import gaussian_kde\n"
     ]
    }
   ],
   "source": [
    "### Ваш код здесь ###\n",
    "%matplotlib inline\n",
    "import matplotlib.pyplot as plt\n",
    "import numpy as np\n",
    "import pandas as pd\n",
    "import seaborn as sns\n",
    "\n",
    "# Ядерная оценка плотности\n",
    "from scipy.stats.kde import gaussian_kde\n",
    "from numpy import linspace,hstack\n",
    "from pylab import plot,show,hist\n",
    "\n",
    "\n",
    "\n",
    "from sklearn.preprocessing import LabelEncoder\n",
    "from sklearn.model_selection import train_test_split\n",
    "from sklearn.linear_model import LinearRegression\n",
    "from sklearn.metrics import mean_absolute_error, mean_squared_error\n",
    "from sklearn.metrics import r2_score\n",
    "\n",
    "from sklearn.linear_model import Lasso\n",
    "from sklearn.linear_model import Ridge\n",
    "from sklearn.model_selection import GridSearchCV"
   ]
  },
  {
   "cell_type": "code",
   "execution_count": null,
   "id": "2vkQRuZgo13i",
   "metadata": {
    "colab": {
     "base_uri": "https://localhost:8080/"
    },
    "executionInfo": {
     "elapsed": 17621,
     "status": "ok",
     "timestamp": 1718535782219,
     "user": {
      "displayName": "Yozhik31",
      "userId": "07739058683274005436"
     },
     "user_tz": -180
    },
    "id": "2vkQRuZgo13i",
    "outputId": "5a69f3c9-6773-4549-b20e-14845e7d525c"
   },
   "outputs": [],
   "source": []
  },
  {
   "cell_type": "markdown",
   "id": "938ffc98-b69b-4b91-b1bf-438631acef68",
   "metadata": {
    "id": "938ffc98-b69b-4b91-b1bf-438631acef68"
   },
   "source": [
    "## Задание 2\n",
    "\n",
    "Считайте данные и посмотрите на несколько строк."
   ]
  },
  {
   "cell_type": "code",
   "execution_count": 58,
   "id": "fc43662c-5d49-492b-9a2a-66b58b1b2656",
   "metadata": {
    "colab": {
     "base_uri": "https://localhost:8080/",
     "height": 444
    },
    "executionInfo": {
     "elapsed": 1174,
     "status": "ok",
     "timestamp": 1718471655246,
     "user": {
      "displayName": "Yozhik31",
      "userId": "07739058683274005436"
     },
     "user_tz": -180
    },
    "id": "fc43662c-5d49-492b-9a2a-66b58b1b2656",
    "outputId": "60d4fd68-30c6-46bf-a537-d242dcda9289"
   },
   "outputs": [
    {
     "data": {
      "text/html": [
       "<div>\n",
       "<style scoped>\n",
       "    .dataframe tbody tr th:only-of-type {\n",
       "        vertical-align: middle;\n",
       "    }\n",
       "\n",
       "    .dataframe tbody tr th {\n",
       "        vertical-align: top;\n",
       "    }\n",
       "\n",
       "    .dataframe thead th {\n",
       "        text-align: right;\n",
       "    }\n",
       "</style>\n",
       "<table border=\"1\" class=\"dataframe\">\n",
       "  <thead>\n",
       "    <tr style=\"text-align: right;\">\n",
       "      <th></th>\n",
       "      <th>LotArea</th>\n",
       "      <th>LotArea_M</th>\n",
       "      <th>Street</th>\n",
       "      <th>BldgType</th>\n",
       "      <th>OverallQual</th>\n",
       "      <th>OverallCond</th>\n",
       "      <th>YearBuilt</th>\n",
       "      <th>YearRemodAdd</th>\n",
       "      <th>RoofStyle</th>\n",
       "      <th>ExterQual</th>\n",
       "      <th>...</th>\n",
       "      <th>CentralAir</th>\n",
       "      <th>GrLivArea</th>\n",
       "      <th>GrLivArea_M</th>\n",
       "      <th>Bath</th>\n",
       "      <th>KitchenQual</th>\n",
       "      <th>GarageArea</th>\n",
       "      <th>GarageArea_M</th>\n",
       "      <th>DateSold</th>\n",
       "      <th>SaleCondition</th>\n",
       "      <th>SalePrice</th>\n",
       "    </tr>\n",
       "  </thead>\n",
       "  <tbody>\n",
       "    <tr>\n",
       "      <th>0</th>\n",
       "      <td>8450</td>\n",
       "      <td>785.030350</td>\n",
       "      <td>Pave</td>\n",
       "      <td>1Fam</td>\n",
       "      <td>7</td>\n",
       "      <td>5</td>\n",
       "      <td>2003</td>\n",
       "      <td>2003</td>\n",
       "      <td>Gable</td>\n",
       "      <td>Gd</td>\n",
       "      <td>...</td>\n",
       "      <td>Y</td>\n",
       "      <td>1710</td>\n",
       "      <td>158.864130</td>\n",
       "      <td>3</td>\n",
       "      <td>Gd</td>\n",
       "      <td>548</td>\n",
       "      <td>50.910844</td>\n",
       "      <td>2/2008</td>\n",
       "      <td>Normal</td>\n",
       "      <td>208500</td>\n",
       "    </tr>\n",
       "    <tr>\n",
       "      <th>1</th>\n",
       "      <td>9600</td>\n",
       "      <td>891.868800</td>\n",
       "      <td>Pave</td>\n",
       "      <td>1Fam</td>\n",
       "      <td>6</td>\n",
       "      <td>8</td>\n",
       "      <td>1976</td>\n",
       "      <td>1976</td>\n",
       "      <td>Gable</td>\n",
       "      <td>TA</td>\n",
       "      <td>...</td>\n",
       "      <td>Y</td>\n",
       "      <td>1262</td>\n",
       "      <td>117.243586</td>\n",
       "      <td>2</td>\n",
       "      <td>TA</td>\n",
       "      <td>460</td>\n",
       "      <td>42.735380</td>\n",
       "      <td>5/2007</td>\n",
       "      <td>Normal</td>\n",
       "      <td>181500</td>\n",
       "    </tr>\n",
       "    <tr>\n",
       "      <th>2</th>\n",
       "      <td>11250</td>\n",
       "      <td>1045.158750</td>\n",
       "      <td>Pave</td>\n",
       "      <td>1Fam</td>\n",
       "      <td>7</td>\n",
       "      <td>5</td>\n",
       "      <td>2001</td>\n",
       "      <td>2002</td>\n",
       "      <td>Gable</td>\n",
       "      <td>Gd</td>\n",
       "      <td>...</td>\n",
       "      <td>Y</td>\n",
       "      <td>1786</td>\n",
       "      <td>165.924758</td>\n",
       "      <td>3</td>\n",
       "      <td>Gd</td>\n",
       "      <td>608</td>\n",
       "      <td>56.485024</td>\n",
       "      <td>9/2008</td>\n",
       "      <td>Normal</td>\n",
       "      <td>223500</td>\n",
       "    </tr>\n",
       "    <tr>\n",
       "      <th>3</th>\n",
       "      <td>9550</td>\n",
       "      <td>887.223650</td>\n",
       "      <td>Pave</td>\n",
       "      <td>1Fam</td>\n",
       "      <td>7</td>\n",
       "      <td>5</td>\n",
       "      <td>1915</td>\n",
       "      <td>1970</td>\n",
       "      <td>Gable</td>\n",
       "      <td>TA</td>\n",
       "      <td>...</td>\n",
       "      <td>Y</td>\n",
       "      <td>1717</td>\n",
       "      <td>159.514451</td>\n",
       "      <td>1</td>\n",
       "      <td>Gd</td>\n",
       "      <td>642</td>\n",
       "      <td>59.643726</td>\n",
       "      <td>2/2006</td>\n",
       "      <td>Abnorml</td>\n",
       "      <td>140000</td>\n",
       "    </tr>\n",
       "    <tr>\n",
       "      <th>4</th>\n",
       "      <td>14260</td>\n",
       "      <td>1324.796780</td>\n",
       "      <td>Pave</td>\n",
       "      <td>1Fam</td>\n",
       "      <td>8</td>\n",
       "      <td>5</td>\n",
       "      <td>2000</td>\n",
       "      <td>2000</td>\n",
       "      <td>Gable</td>\n",
       "      <td>Gd</td>\n",
       "      <td>...</td>\n",
       "      <td>Y</td>\n",
       "      <td>2198</td>\n",
       "      <td>204.200794</td>\n",
       "      <td>3</td>\n",
       "      <td>Gd</td>\n",
       "      <td>836</td>\n",
       "      <td>77.666908</td>\n",
       "      <td>12/2008</td>\n",
       "      <td>Normal</td>\n",
       "      <td>250000</td>\n",
       "    </tr>\n",
       "    <tr>\n",
       "      <th>...</th>\n",
       "      <td>...</td>\n",
       "      <td>...</td>\n",
       "      <td>...</td>\n",
       "      <td>...</td>\n",
       "      <td>...</td>\n",
       "      <td>...</td>\n",
       "      <td>...</td>\n",
       "      <td>...</td>\n",
       "      <td>...</td>\n",
       "      <td>...</td>\n",
       "      <td>...</td>\n",
       "      <td>...</td>\n",
       "      <td>...</td>\n",
       "      <td>...</td>\n",
       "      <td>...</td>\n",
       "      <td>...</td>\n",
       "      <td>...</td>\n",
       "      <td>...</td>\n",
       "      <td>...</td>\n",
       "      <td>...</td>\n",
       "      <td>...</td>\n",
       "    </tr>\n",
       "    <tr>\n",
       "      <th>1455</th>\n",
       "      <td>7917</td>\n",
       "      <td>735.513051</td>\n",
       "      <td>Pave</td>\n",
       "      <td>1Fam</td>\n",
       "      <td>6</td>\n",
       "      <td>5</td>\n",
       "      <td>1999</td>\n",
       "      <td>2000</td>\n",
       "      <td>Gable</td>\n",
       "      <td>TA</td>\n",
       "      <td>...</td>\n",
       "      <td>Y</td>\n",
       "      <td>1647</td>\n",
       "      <td>153.011241</td>\n",
       "      <td>3</td>\n",
       "      <td>TA</td>\n",
       "      <td>460</td>\n",
       "      <td>42.735380</td>\n",
       "      <td>8/2007</td>\n",
       "      <td>Normal</td>\n",
       "      <td>175000</td>\n",
       "    </tr>\n",
       "    <tr>\n",
       "      <th>1456</th>\n",
       "      <td>13175</td>\n",
       "      <td>1223.997025</td>\n",
       "      <td>Pave</td>\n",
       "      <td>1Fam</td>\n",
       "      <td>6</td>\n",
       "      <td>6</td>\n",
       "      <td>1978</td>\n",
       "      <td>1988</td>\n",
       "      <td>Gable</td>\n",
       "      <td>TA</td>\n",
       "      <td>...</td>\n",
       "      <td>Y</td>\n",
       "      <td>2073</td>\n",
       "      <td>192.587919</td>\n",
       "      <td>2</td>\n",
       "      <td>TA</td>\n",
       "      <td>500</td>\n",
       "      <td>46.451500</td>\n",
       "      <td>2/2010</td>\n",
       "      <td>Normal</td>\n",
       "      <td>210000</td>\n",
       "    </tr>\n",
       "    <tr>\n",
       "      <th>1457</th>\n",
       "      <td>9042</td>\n",
       "      <td>840.028926</td>\n",
       "      <td>Pave</td>\n",
       "      <td>1Fam</td>\n",
       "      <td>7</td>\n",
       "      <td>9</td>\n",
       "      <td>1941</td>\n",
       "      <td>2006</td>\n",
       "      <td>Gable</td>\n",
       "      <td>Ex</td>\n",
       "      <td>...</td>\n",
       "      <td>Y</td>\n",
       "      <td>2340</td>\n",
       "      <td>217.393020</td>\n",
       "      <td>2</td>\n",
       "      <td>Gd</td>\n",
       "      <td>252</td>\n",
       "      <td>23.411556</td>\n",
       "      <td>5/2010</td>\n",
       "      <td>Normal</td>\n",
       "      <td>266500</td>\n",
       "    </tr>\n",
       "    <tr>\n",
       "      <th>1458</th>\n",
       "      <td>9717</td>\n",
       "      <td>902.738451</td>\n",
       "      <td>Pave</td>\n",
       "      <td>1Fam</td>\n",
       "      <td>5</td>\n",
       "      <td>6</td>\n",
       "      <td>1950</td>\n",
       "      <td>1996</td>\n",
       "      <td>Hip</td>\n",
       "      <td>TA</td>\n",
       "      <td>...</td>\n",
       "      <td>Y</td>\n",
       "      <td>1078</td>\n",
       "      <td>100.149434</td>\n",
       "      <td>1</td>\n",
       "      <td>Gd</td>\n",
       "      <td>240</td>\n",
       "      <td>22.296720</td>\n",
       "      <td>4/2010</td>\n",
       "      <td>Normal</td>\n",
       "      <td>142125</td>\n",
       "    </tr>\n",
       "    <tr>\n",
       "      <th>1459</th>\n",
       "      <td>9937</td>\n",
       "      <td>923.177111</td>\n",
       "      <td>Pave</td>\n",
       "      <td>1Fam</td>\n",
       "      <td>5</td>\n",
       "      <td>6</td>\n",
       "      <td>1965</td>\n",
       "      <td>1965</td>\n",
       "      <td>Gable</td>\n",
       "      <td>Gd</td>\n",
       "      <td>...</td>\n",
       "      <td>Y</td>\n",
       "      <td>1256</td>\n",
       "      <td>116.686168</td>\n",
       "      <td>2</td>\n",
       "      <td>TA</td>\n",
       "      <td>276</td>\n",
       "      <td>25.641228</td>\n",
       "      <td>6/2008</td>\n",
       "      <td>Normal</td>\n",
       "      <td>147500</td>\n",
       "    </tr>\n",
       "  </tbody>\n",
       "</table>\n",
       "<p>1460 rows × 26 columns</p>\n",
       "</div>"
      ],
      "text/plain": [
       "      LotArea    LotArea_M Street BldgType  OverallQual  OverallCond  \\\n",
       "0        8450   785.030350   Pave     1Fam            7            5   \n",
       "1        9600   891.868800   Pave     1Fam            6            8   \n",
       "2       11250  1045.158750   Pave     1Fam            7            5   \n",
       "3        9550   887.223650   Pave     1Fam            7            5   \n",
       "4       14260  1324.796780   Pave     1Fam            8            5   \n",
       "...       ...          ...    ...      ...          ...          ...   \n",
       "1455     7917   735.513051   Pave     1Fam            6            5   \n",
       "1456    13175  1223.997025   Pave     1Fam            6            6   \n",
       "1457     9042   840.028926   Pave     1Fam            7            9   \n",
       "1458     9717   902.738451   Pave     1Fam            5            6   \n",
       "1459     9937   923.177111   Pave     1Fam            5            6   \n",
       "\n",
       "      YearBuilt  YearRemodAdd RoofStyle ExterQual  ... CentralAir GrLivArea  \\\n",
       "0          2003          2003     Gable        Gd  ...          Y      1710   \n",
       "1          1976          1976     Gable        TA  ...          Y      1262   \n",
       "2          2001          2002     Gable        Gd  ...          Y      1786   \n",
       "3          1915          1970     Gable        TA  ...          Y      1717   \n",
       "4          2000          2000     Gable        Gd  ...          Y      2198   \n",
       "...         ...           ...       ...       ...  ...        ...       ...   \n",
       "1455       1999          2000     Gable        TA  ...          Y      1647   \n",
       "1456       1978          1988     Gable        TA  ...          Y      2073   \n",
       "1457       1941          2006     Gable        Ex  ...          Y      2340   \n",
       "1458       1950          1996       Hip        TA  ...          Y      1078   \n",
       "1459       1965          1965     Gable        Gd  ...          Y      1256   \n",
       "\n",
       "      GrLivArea_M  Bath KitchenQual GarageArea GarageArea_M  DateSold  \\\n",
       "0      158.864130     3          Gd        548    50.910844    2/2008   \n",
       "1      117.243586     2          TA        460    42.735380    5/2007   \n",
       "2      165.924758     3          Gd        608    56.485024    9/2008   \n",
       "3      159.514451     1          Gd        642    59.643726    2/2006   \n",
       "4      204.200794     3          Gd        836    77.666908   12/2008   \n",
       "...           ...   ...         ...        ...          ...       ...   \n",
       "1455   153.011241     3          TA        460    42.735380    8/2007   \n",
       "1456   192.587919     2          TA        500    46.451500    2/2010   \n",
       "1457   217.393020     2          Gd        252    23.411556    5/2010   \n",
       "1458   100.149434     1          Gd        240    22.296720    4/2010   \n",
       "1459   116.686168     2          TA        276    25.641228    6/2008   \n",
       "\n",
       "      SaleCondition  SalePrice  \n",
       "0            Normal     208500  \n",
       "1            Normal     181500  \n",
       "2            Normal     223500  \n",
       "3           Abnorml     140000  \n",
       "4            Normal     250000  \n",
       "...             ...        ...  \n",
       "1455         Normal     175000  \n",
       "1456         Normal     210000  \n",
       "1457         Normal     266500  \n",
       "1458         Normal     142125  \n",
       "1459         Normal     147500  \n",
       "\n",
       "[1460 rows x 26 columns]"
      ]
     },
     "execution_count": 58,
     "metadata": {},
     "output_type": "execute_result"
    }
   ],
   "source": [
    "### Ваш код здесь ###\n",
    "df = pd.read_csv('data.csv')\n",
    "df"
   ]
  },
  {
   "cell_type": "markdown",
   "id": "19861b0c-dc8d-4c32-bac9-3e8c5aa0d16d",
   "metadata": {
    "id": "19861b0c-dc8d-4c32-bac9-3e8c5aa0d16d",
    "tags": []
   },
   "source": [
    "## Задание 3\n",
    "\n",
    "Проведите разведочный анализ:\n",
    "\n",
    "1. Выведите описательные статистики для числовых признаков."
   ]
  },
  {
   "cell_type": "code",
   "execution_count": 59,
   "id": "ba5f939b-105b-4b33-99cf-703d6fb27ddb",
   "metadata": {
    "colab": {
     "base_uri": "https://localhost:8080/"
    },
    "executionInfo": {
     "elapsed": 826,
     "status": "ok",
     "timestamp": 1718471661545,
     "user": {
      "displayName": "Yozhik31",
      "userId": "07739058683274005436"
     },
     "user_tz": -180
    },
    "id": "ba5f939b-105b-4b33-99cf-703d6fb27ddb",
    "outputId": "afde9e9f-216d-438e-dff6-f7f5e48f8d98"
   },
   "outputs": [
    {
     "name": "stdout",
     "output_type": "stream",
     "text": [
      "<class 'pandas.core.frame.DataFrame'>\n",
      "RangeIndex: 1460 entries, 0 to 1459\n",
      "Data columns (total 26 columns):\n",
      " #   Column         Non-Null Count  Dtype  \n",
      "---  ------         --------------  -----  \n",
      " 0   LotArea        1460 non-null   int64  \n",
      " 1   LotArea_M      1460 non-null   float64\n",
      " 2   Street         1460 non-null   object \n",
      " 3   BldgType       1460 non-null   object \n",
      " 4   OverallQual    1460 non-null   int64  \n",
      " 5   OverallCond    1460 non-null   int64  \n",
      " 6   YearBuilt      1460 non-null   int64  \n",
      " 7   YearRemodAdd   1460 non-null   int64  \n",
      " 8   RoofStyle      1460 non-null   object \n",
      " 9   ExterQual      1460 non-null   object \n",
      " 10  ExterCond      1460 non-null   object \n",
      " 11  Foundation     1460 non-null   object \n",
      " 12  TotalBsmtSF    1460 non-null   int64  \n",
      " 13  TotalBsmtSF_M  1460 non-null   float64\n",
      " 14  Heating        1460 non-null   object \n",
      " 15  HeatingQC      1460 non-null   object \n",
      " 16  CentralAir     1460 non-null   object \n",
      " 17  GrLivArea      1460 non-null   int64  \n",
      " 18  GrLivArea_M    1460 non-null   float64\n",
      " 19  Bath           1460 non-null   int64  \n",
      " 20  KitchenQual    1460 non-null   object \n",
      " 21  GarageArea     1460 non-null   int64  \n",
      " 22  GarageArea_M   1460 non-null   float64\n",
      " 23  DateSold       1460 non-null   object \n",
      " 24  SaleCondition  1460 non-null   object \n",
      " 25  SalePrice      1460 non-null   int64  \n",
      "dtypes: float64(4), int64(10), object(12)\n",
      "memory usage: 296.7+ KB\n"
     ]
    }
   ],
   "source": [
    "### Ваш код здесь ###\n",
    "df.info() # выводим информацию о датафпейме"
   ]
  },
  {
   "cell_type": "markdown",
   "id": "Mnhaq0EL34SC",
   "metadata": {
    "id": "Mnhaq0EL34SC"
   },
   "source": [
    "В данном датасете есть две числовые переменные:\n",
    "- YearBuilt (первоначальная дата постройки - год);\n",
    "- YearRemodAdd (дата реконструкции - год).\n",
    "\n",
    "Также есть категориальная переменная DateSold (месяц и год продажи) - тип данных (object). Исползуя эти переменные создаем двае новые числовые переменные (Задание 5):\n",
    "- age (возрост дома в годах). Расчитывается как разница года продажи (из DateSold) и первоночальной даты постройки (YearBuilt);\n",
    "- age_RemodAdd_DateSold (сколько лет прошло с года продажи до года реконструкции)."
   ]
  },
  {
   "cell_type": "code",
   "execution_count": 60,
   "id": "leZwObEaCfVs",
   "metadata": {
    "colab": {
     "base_uri": "https://localhost:8080/"
    },
    "executionInfo": {
     "elapsed": 286,
     "status": "ok",
     "timestamp": 1718471696240,
     "user": {
      "displayName": "Yozhik31",
      "userId": "07739058683274005436"
     },
     "user_tz": -180
    },
    "id": "leZwObEaCfVs",
    "outputId": "ed169a09-b115-48c8-9091-c86714d54c5e"
   },
   "outputs": [
    {
     "name": "stderr",
     "output_type": "stream",
     "text": [
      "C:\\Users\\natau\\AppData\\Local\\Temp\\ipykernel_13392\\2045928462.py:2: UserWarning: Could not infer format, so each element will be parsed individually, falling back to `dateutil`. To ensure parsing is consistent and as-expected, please specify a format.\n",
      "  df['DateSold'] = pd.to_datetime(df['DateSold'], utc=True)\n"
     ]
    }
   ],
   "source": [
    "# Преобразование тип данных object в datetime64[ns, UTC]#\n",
    "df['DateSold'] = pd.to_datetime(df['DateSold'], utc=True)"
   ]
  },
  {
   "cell_type": "code",
   "execution_count": 61,
   "id": "VK42pMlmU4a8",
   "metadata": {
    "id": "VK42pMlmU4a8"
   },
   "outputs": [],
   "source": [
    "df['DateSold_year'] = df['DateSold'].dt.year"
   ]
  },
  {
   "cell_type": "code",
   "execution_count": 62,
   "id": "yFl760F9KHIh",
   "metadata": {
    "id": "yFl760F9KHIh"
   },
   "outputs": [],
   "source": [
    "# Создаем переменную возраст дома на дату продажи\n",
    "df['age'] = df['DateSold_year'] - df['YearBuilt']"
   ]
  },
  {
   "cell_type": "code",
   "execution_count": 63,
   "id": "i1Pz2AyfJYRE",
   "metadata": {
    "id": "i1Pz2AyfJYRE"
   },
   "outputs": [],
   "source": [
    "# Создаем переменную сколько лет прошло с реконструкции дома до даты продажи\n",
    "df['age_RemodAdd_DateSold'] = df['DateSold_year'] - df['YearRemodAdd']"
   ]
  },
  {
   "cell_type": "code",
   "execution_count": 64,
   "id": "72heQbyKLVG2",
   "metadata": {
    "colab": {
     "base_uri": "https://localhost:8080/"
    },
    "executionInfo": {
     "elapsed": 482,
     "status": "ok",
     "timestamp": 1718471710709,
     "user": {
      "displayName": "Yozhik31",
      "userId": "07739058683274005436"
     },
     "user_tz": -180
    },
    "id": "72heQbyKLVG2",
    "outputId": "40d06ea2-4f09-4db2-bb94-16aeffdac30d"
   },
   "outputs": [
    {
     "name": "stdout",
     "output_type": "stream",
     "text": [
      "<class 'pandas.core.frame.DataFrame'>\n",
      "RangeIndex: 1460 entries, 0 to 1459\n",
      "Data columns (total 29 columns):\n",
      " #   Column                 Non-Null Count  Dtype              \n",
      "---  ------                 --------------  -----              \n",
      " 0   LotArea                1460 non-null   int64              \n",
      " 1   LotArea_M              1460 non-null   float64            \n",
      " 2   Street                 1460 non-null   object             \n",
      " 3   BldgType               1460 non-null   object             \n",
      " 4   OverallQual            1460 non-null   int64              \n",
      " 5   OverallCond            1460 non-null   int64              \n",
      " 6   YearBuilt              1460 non-null   int64              \n",
      " 7   YearRemodAdd           1460 non-null   int64              \n",
      " 8   RoofStyle              1460 non-null   object             \n",
      " 9   ExterQual              1460 non-null   object             \n",
      " 10  ExterCond              1460 non-null   object             \n",
      " 11  Foundation             1460 non-null   object             \n",
      " 12  TotalBsmtSF            1460 non-null   int64              \n",
      " 13  TotalBsmtSF_M          1460 non-null   float64            \n",
      " 14  Heating                1460 non-null   object             \n",
      " 15  HeatingQC              1460 non-null   object             \n",
      " 16  CentralAir             1460 non-null   object             \n",
      " 17  GrLivArea              1460 non-null   int64              \n",
      " 18  GrLivArea_M            1460 non-null   float64            \n",
      " 19  Bath                   1460 non-null   int64              \n",
      " 20  KitchenQual            1460 non-null   object             \n",
      " 21  GarageArea             1460 non-null   int64              \n",
      " 22  GarageArea_M           1460 non-null   float64            \n",
      " 23  DateSold               1460 non-null   datetime64[ns, UTC]\n",
      " 24  SaleCondition          1460 non-null   object             \n",
      " 25  SalePrice              1460 non-null   int64              \n",
      " 26  DateSold_year          1460 non-null   int32              \n",
      " 27  age                    1460 non-null   int64              \n",
      " 28  age_RemodAdd_DateSold  1460 non-null   int64              \n",
      "dtypes: datetime64[ns, UTC](1), float64(4), int32(1), int64(12), object(11)\n",
      "memory usage: 325.2+ KB\n"
     ]
    }
   ],
   "source": [
    "df.info()"
   ]
  },
  {
   "cell_type": "code",
   "execution_count": 65,
   "id": "XgykHQTW9RG7",
   "metadata": {
    "colab": {
     "base_uri": "https://localhost:8080/"
    },
    "executionInfo": {
     "elapsed": 301,
     "status": "ok",
     "timestamp": 1718471717889,
     "user": {
      "displayName": "Yozhik31",
      "userId": "07739058683274005436"
     },
     "user_tz": -180
    },
    "id": "XgykHQTW9RG7",
    "outputId": "e2f2cd4a-7948-4dd4-e6ad-f09ae127dc50"
   },
   "outputs": [
    {
     "name": "stdout",
     "output_type": "stream",
     "text": [
      "             LotArea     LotArea_M  OverallQual  OverallCond    YearBuilt  \\\n",
      "count    1460.000000   1460.000000  1460.000000  1460.000000  1460.000000   \n",
      "mean    10516.828082    977.044879     6.099315     5.575342  1971.267808   \n",
      "std      9981.264932    927.289456     1.382997     1.112799    30.202904   \n",
      "min      1300.000000    120.773900     1.000000     1.000000  1872.000000   \n",
      "25%      7553.500000    701.742811     5.000000     5.000000  1954.000000   \n",
      "50%      9478.500000    880.581085     6.000000     5.000000  1973.000000   \n",
      "75%     11601.500000   1077.814155     7.000000     6.000000  2000.000000   \n",
      "max    215245.000000  19996.906235    10.000000     9.000000  2010.000000   \n",
      "\n",
      "       YearRemodAdd  TotalBsmtSF  TotalBsmtSF_M    GrLivArea  GrLivArea_M  \\\n",
      "count   1460.000000  1460.000000    1460.000000  1460.000000  1460.000000   \n",
      "mean    1984.865753  1057.429452      98.238368  1515.463699   140.791124   \n",
      "std       20.645407   438.705324      40.757041   525.480383    48.818704   \n",
      "min     1950.000000     0.000000       0.000000   334.000000    31.029602   \n",
      "25%     1967.000000   795.750000      73.927562  1129.500000   104.933938   \n",
      "50%     1994.000000   991.500000      92.113325  1464.000000   136.009992   \n",
      "75%     2004.000000  1298.250000     120.611320  1776.750000   165.065405   \n",
      "max     2010.000000  6110.000000     567.637330  5642.000000   524.158726   \n",
      "\n",
      "              Bath   GarageArea  GarageArea_M      SalePrice          age  \\\n",
      "count  1460.000000  1460.000000   1460.000000    1460.000000  1460.000000   \n",
      "mean      1.947945   472.980137     43.941274  180921.195890    36.547945   \n",
      "std       0.794965   213.804841     19.863111   79442.502883    30.250152   \n",
      "min       0.000000     0.000000      0.000000   34900.000000     0.000000   \n",
      "25%       1.000000   334.500000     31.076054  129975.000000     8.000000   \n",
      "50%       2.000000   480.000000     44.593440  163000.000000    35.000000   \n",
      "75%       3.000000   576.000000     53.512128  214000.000000    54.000000   \n",
      "max       4.000000  1418.000000    131.736454  755000.000000   136.000000   \n",
      "\n",
      "       age_RemodAdd_DateSold  \n",
      "count            1460.000000  \n",
      "mean               22.950000  \n",
      "std                20.640653  \n",
      "min                -1.000000  \n",
      "25%                 4.000000  \n",
      "50%                14.000000  \n",
      "75%                41.000000  \n",
      "max                60.000000  \n"
     ]
    }
   ],
   "source": [
    "# создадим список названий числовых переменных\n",
    "numerical_features = ['LotArea', 'LotArea_M', 'OverallQual', 'OverallCond', 'YearBuilt', 'YearRemodAdd',\n",
    "                      'TotalBsmtSF', 'TotalBsmtSF_M', 'GrLivArea', 'GrLivArea_M', 'Bath', 'GarageArea', 'GarageArea_M', 'SalePrice', 'age', 'age_RemodAdd_DateSold']\n",
    "\n",
    "numerical_stats = df[numerical_features].describe()\n",
    "print(numerical_stats)"
   ]
  },
  {
   "cell_type": "markdown",
   "id": "k5trZzdJ_-fL",
   "metadata": {
    "id": "k5trZzdJ_-fL"
   },
   "source": [
    "В новой переменной age_RemodAdd_DateSold минимальное значение равно -1. Это скорее всего ошибка в данных. Посмотрим на эту строку данных"
   ]
  },
  {
   "cell_type": "code",
   "execution_count": 66,
   "id": "RtKC1fu4-Mln",
   "metadata": {
    "colab": {
     "base_uri": "https://localhost:8080/",
     "height": 147
    },
    "executionInfo": {
     "elapsed": 341,
     "status": "ok",
     "timestamp": 1718471740267,
     "user": {
      "displayName": "Yozhik31",
      "userId": "07739058683274005436"
     },
     "user_tz": -180
    },
    "id": "RtKC1fu4-Mln",
    "outputId": "aaf9543e-89c0-4f35-9075-0799d7b1a76e"
   },
   "outputs": [
    {
     "data": {
      "text/html": [
       "<div>\n",
       "<style scoped>\n",
       "    .dataframe tbody tr th:only-of-type {\n",
       "        vertical-align: middle;\n",
       "    }\n",
       "\n",
       "    .dataframe tbody tr th {\n",
       "        vertical-align: top;\n",
       "    }\n",
       "\n",
       "    .dataframe thead th {\n",
       "        text-align: right;\n",
       "    }\n",
       "</style>\n",
       "<table border=\"1\" class=\"dataframe\">\n",
       "  <thead>\n",
       "    <tr style=\"text-align: right;\">\n",
       "      <th></th>\n",
       "      <th>LotArea</th>\n",
       "      <th>LotArea_M</th>\n",
       "      <th>Street</th>\n",
       "      <th>BldgType</th>\n",
       "      <th>OverallQual</th>\n",
       "      <th>OverallCond</th>\n",
       "      <th>YearBuilt</th>\n",
       "      <th>YearRemodAdd</th>\n",
       "      <th>RoofStyle</th>\n",
       "      <th>ExterQual</th>\n",
       "      <th>...</th>\n",
       "      <th>Bath</th>\n",
       "      <th>KitchenQual</th>\n",
       "      <th>GarageArea</th>\n",
       "      <th>GarageArea_M</th>\n",
       "      <th>DateSold</th>\n",
       "      <th>SaleCondition</th>\n",
       "      <th>SalePrice</th>\n",
       "      <th>DateSold_year</th>\n",
       "      <th>age</th>\n",
       "      <th>age_RemodAdd_DateSold</th>\n",
       "    </tr>\n",
       "  </thead>\n",
       "  <tbody>\n",
       "    <tr>\n",
       "      <th>523</th>\n",
       "      <td>40094</td>\n",
       "      <td>3724.852882</td>\n",
       "      <td>Pave</td>\n",
       "      <td>1Fam</td>\n",
       "      <td>10</td>\n",
       "      <td>5</td>\n",
       "      <td>2007</td>\n",
       "      <td>2008</td>\n",
       "      <td>Hip</td>\n",
       "      <td>Ex</td>\n",
       "      <td>...</td>\n",
       "      <td>4</td>\n",
       "      <td>Ex</td>\n",
       "      <td>884</td>\n",
       "      <td>82.126252</td>\n",
       "      <td>2007-10-01 00:00:00+00:00</td>\n",
       "      <td>Partial</td>\n",
       "      <td>184750</td>\n",
       "      <td>2007</td>\n",
       "      <td>0</td>\n",
       "      <td>-1</td>\n",
       "    </tr>\n",
       "  </tbody>\n",
       "</table>\n",
       "<p>1 rows × 29 columns</p>\n",
       "</div>"
      ],
      "text/plain": [
       "     LotArea    LotArea_M Street BldgType  OverallQual  OverallCond  \\\n",
       "523    40094  3724.852882   Pave     1Fam           10            5   \n",
       "\n",
       "     YearBuilt  YearRemodAdd RoofStyle ExterQual  ... Bath KitchenQual  \\\n",
       "523       2007          2008       Hip        Ex  ...    4          Ex   \n",
       "\n",
       "     GarageArea  GarageArea_M                  DateSold SaleCondition  \\\n",
       "523         884     82.126252 2007-10-01 00:00:00+00:00       Partial   \n",
       "\n",
       "    SalePrice  DateSold_year  age  age_RemodAdd_DateSold  \n",
       "523    184750           2007    0                     -1  \n",
       "\n",
       "[1 rows x 29 columns]"
      ]
     },
     "execution_count": 66,
     "metadata": {},
     "output_type": "execute_result"
    }
   ],
   "source": [
    "df.loc[df['age_RemodAdd_DateSold'] == -1]"
   ]
  },
  {
   "cell_type": "markdown",
   "id": "ymQUB39UB5XU",
   "metadata": {
    "id": "ymQUB39UB5XU"
   },
   "source": [
    "Так как мы точно не знаем в каком признаке есть неточные данные, обнулим минимальное значение."
   ]
  },
  {
   "cell_type": "code",
   "execution_count": 67,
   "id": "8XEY3rEcB0PR",
   "metadata": {
    "id": "8XEY3rEcB0PR"
   },
   "outputs": [],
   "source": [
    "df.loc[df['age_RemodAdd_DateSold'] == -1, 'age_RemodAdd_DateSold'] = 0"
   ]
  },
  {
   "cell_type": "code",
   "execution_count": 68,
   "id": "xRJ0lCrkKeLC",
   "metadata": {
    "colab": {
     "base_uri": "https://localhost:8080/"
    },
    "executionInfo": {
     "elapsed": 3,
     "status": "ok",
     "timestamp": 1718471754757,
     "user": {
      "displayName": "Yozhik31",
      "userId": "07739058683274005436"
     },
     "user_tz": -180
    },
    "id": "xRJ0lCrkKeLC",
    "outputId": "64bd6e42-0ef5-4978-8d21-b560a150f7d3"
   },
   "outputs": [
    {
     "data": {
      "text/plain": [
       "count    1460.000000\n",
       "mean       22.950685\n",
       "std        20.639875\n",
       "min         0.000000\n",
       "25%         4.000000\n",
       "50%        14.000000\n",
       "75%        41.000000\n",
       "max        60.000000\n",
       "Name: age_RemodAdd_DateSold, dtype: float64"
      ]
     },
     "execution_count": 68,
     "metadata": {},
     "output_type": "execute_result"
    }
   ],
   "source": [
    "df.age_RemodAdd_DateSold.describe()"
   ]
  },
  {
   "cell_type": "markdown",
   "id": "VXbmUilMIbo0",
   "metadata": {
    "id": "VXbmUilMIbo0"
   },
   "source": [
    "Удалим из датафрэйма столбцы YearBuilt,\tYearRemodAdd, DateSold и DateSold_year.\n"
   ]
  },
  {
   "cell_type": "code",
   "execution_count": 69,
   "id": "ivEtzcKmJB0B",
   "metadata": {
    "colab": {
     "base_uri": "https://localhost:8080/",
     "height": 444
    },
    "executionInfo": {
     "elapsed": 299,
     "status": "ok",
     "timestamp": 1718471766323,
     "user": {
      "displayName": "Yozhik31",
      "userId": "07739058683274005436"
     },
     "user_tz": -180
    },
    "id": "ivEtzcKmJB0B",
    "outputId": "612e8d05-00cc-4eec-a3a9-e9e0499d3b84"
   },
   "outputs": [
    {
     "data": {
      "text/html": [
       "<div>\n",
       "<style scoped>\n",
       "    .dataframe tbody tr th:only-of-type {\n",
       "        vertical-align: middle;\n",
       "    }\n",
       "\n",
       "    .dataframe tbody tr th {\n",
       "        vertical-align: top;\n",
       "    }\n",
       "\n",
       "    .dataframe thead th {\n",
       "        text-align: right;\n",
       "    }\n",
       "</style>\n",
       "<table border=\"1\" class=\"dataframe\">\n",
       "  <thead>\n",
       "    <tr style=\"text-align: right;\">\n",
       "      <th></th>\n",
       "      <th>LotArea</th>\n",
       "      <th>LotArea_M</th>\n",
       "      <th>Street</th>\n",
       "      <th>BldgType</th>\n",
       "      <th>OverallQual</th>\n",
       "      <th>OverallCond</th>\n",
       "      <th>RoofStyle</th>\n",
       "      <th>ExterQual</th>\n",
       "      <th>ExterCond</th>\n",
       "      <th>Foundation</th>\n",
       "      <th>...</th>\n",
       "      <th>GrLivArea</th>\n",
       "      <th>GrLivArea_M</th>\n",
       "      <th>Bath</th>\n",
       "      <th>KitchenQual</th>\n",
       "      <th>GarageArea</th>\n",
       "      <th>GarageArea_M</th>\n",
       "      <th>SaleCondition</th>\n",
       "      <th>SalePrice</th>\n",
       "      <th>age</th>\n",
       "      <th>age_RemodAdd_DateSold</th>\n",
       "    </tr>\n",
       "  </thead>\n",
       "  <tbody>\n",
       "    <tr>\n",
       "      <th>0</th>\n",
       "      <td>8450</td>\n",
       "      <td>785.030350</td>\n",
       "      <td>Pave</td>\n",
       "      <td>1Fam</td>\n",
       "      <td>7</td>\n",
       "      <td>5</td>\n",
       "      <td>Gable</td>\n",
       "      <td>Gd</td>\n",
       "      <td>TA</td>\n",
       "      <td>PConc</td>\n",
       "      <td>...</td>\n",
       "      <td>1710</td>\n",
       "      <td>158.864130</td>\n",
       "      <td>3</td>\n",
       "      <td>Gd</td>\n",
       "      <td>548</td>\n",
       "      <td>50.910844</td>\n",
       "      <td>Normal</td>\n",
       "      <td>208500</td>\n",
       "      <td>5</td>\n",
       "      <td>5</td>\n",
       "    </tr>\n",
       "    <tr>\n",
       "      <th>1</th>\n",
       "      <td>9600</td>\n",
       "      <td>891.868800</td>\n",
       "      <td>Pave</td>\n",
       "      <td>1Fam</td>\n",
       "      <td>6</td>\n",
       "      <td>8</td>\n",
       "      <td>Gable</td>\n",
       "      <td>TA</td>\n",
       "      <td>TA</td>\n",
       "      <td>CBlock</td>\n",
       "      <td>...</td>\n",
       "      <td>1262</td>\n",
       "      <td>117.243586</td>\n",
       "      <td>2</td>\n",
       "      <td>TA</td>\n",
       "      <td>460</td>\n",
       "      <td>42.735380</td>\n",
       "      <td>Normal</td>\n",
       "      <td>181500</td>\n",
       "      <td>31</td>\n",
       "      <td>31</td>\n",
       "    </tr>\n",
       "    <tr>\n",
       "      <th>2</th>\n",
       "      <td>11250</td>\n",
       "      <td>1045.158750</td>\n",
       "      <td>Pave</td>\n",
       "      <td>1Fam</td>\n",
       "      <td>7</td>\n",
       "      <td>5</td>\n",
       "      <td>Gable</td>\n",
       "      <td>Gd</td>\n",
       "      <td>TA</td>\n",
       "      <td>PConc</td>\n",
       "      <td>...</td>\n",
       "      <td>1786</td>\n",
       "      <td>165.924758</td>\n",
       "      <td>3</td>\n",
       "      <td>Gd</td>\n",
       "      <td>608</td>\n",
       "      <td>56.485024</td>\n",
       "      <td>Normal</td>\n",
       "      <td>223500</td>\n",
       "      <td>7</td>\n",
       "      <td>6</td>\n",
       "    </tr>\n",
       "    <tr>\n",
       "      <th>3</th>\n",
       "      <td>9550</td>\n",
       "      <td>887.223650</td>\n",
       "      <td>Pave</td>\n",
       "      <td>1Fam</td>\n",
       "      <td>7</td>\n",
       "      <td>5</td>\n",
       "      <td>Gable</td>\n",
       "      <td>TA</td>\n",
       "      <td>TA</td>\n",
       "      <td>BrkTil</td>\n",
       "      <td>...</td>\n",
       "      <td>1717</td>\n",
       "      <td>159.514451</td>\n",
       "      <td>1</td>\n",
       "      <td>Gd</td>\n",
       "      <td>642</td>\n",
       "      <td>59.643726</td>\n",
       "      <td>Abnorml</td>\n",
       "      <td>140000</td>\n",
       "      <td>91</td>\n",
       "      <td>36</td>\n",
       "    </tr>\n",
       "    <tr>\n",
       "      <th>4</th>\n",
       "      <td>14260</td>\n",
       "      <td>1324.796780</td>\n",
       "      <td>Pave</td>\n",
       "      <td>1Fam</td>\n",
       "      <td>8</td>\n",
       "      <td>5</td>\n",
       "      <td>Gable</td>\n",
       "      <td>Gd</td>\n",
       "      <td>TA</td>\n",
       "      <td>PConc</td>\n",
       "      <td>...</td>\n",
       "      <td>2198</td>\n",
       "      <td>204.200794</td>\n",
       "      <td>3</td>\n",
       "      <td>Gd</td>\n",
       "      <td>836</td>\n",
       "      <td>77.666908</td>\n",
       "      <td>Normal</td>\n",
       "      <td>250000</td>\n",
       "      <td>8</td>\n",
       "      <td>8</td>\n",
       "    </tr>\n",
       "    <tr>\n",
       "      <th>...</th>\n",
       "      <td>...</td>\n",
       "      <td>...</td>\n",
       "      <td>...</td>\n",
       "      <td>...</td>\n",
       "      <td>...</td>\n",
       "      <td>...</td>\n",
       "      <td>...</td>\n",
       "      <td>...</td>\n",
       "      <td>...</td>\n",
       "      <td>...</td>\n",
       "      <td>...</td>\n",
       "      <td>...</td>\n",
       "      <td>...</td>\n",
       "      <td>...</td>\n",
       "      <td>...</td>\n",
       "      <td>...</td>\n",
       "      <td>...</td>\n",
       "      <td>...</td>\n",
       "      <td>...</td>\n",
       "      <td>...</td>\n",
       "      <td>...</td>\n",
       "    </tr>\n",
       "    <tr>\n",
       "      <th>1455</th>\n",
       "      <td>7917</td>\n",
       "      <td>735.513051</td>\n",
       "      <td>Pave</td>\n",
       "      <td>1Fam</td>\n",
       "      <td>6</td>\n",
       "      <td>5</td>\n",
       "      <td>Gable</td>\n",
       "      <td>TA</td>\n",
       "      <td>TA</td>\n",
       "      <td>PConc</td>\n",
       "      <td>...</td>\n",
       "      <td>1647</td>\n",
       "      <td>153.011241</td>\n",
       "      <td>3</td>\n",
       "      <td>TA</td>\n",
       "      <td>460</td>\n",
       "      <td>42.735380</td>\n",
       "      <td>Normal</td>\n",
       "      <td>175000</td>\n",
       "      <td>8</td>\n",
       "      <td>7</td>\n",
       "    </tr>\n",
       "    <tr>\n",
       "      <th>1456</th>\n",
       "      <td>13175</td>\n",
       "      <td>1223.997025</td>\n",
       "      <td>Pave</td>\n",
       "      <td>1Fam</td>\n",
       "      <td>6</td>\n",
       "      <td>6</td>\n",
       "      <td>Gable</td>\n",
       "      <td>TA</td>\n",
       "      <td>TA</td>\n",
       "      <td>CBlock</td>\n",
       "      <td>...</td>\n",
       "      <td>2073</td>\n",
       "      <td>192.587919</td>\n",
       "      <td>2</td>\n",
       "      <td>TA</td>\n",
       "      <td>500</td>\n",
       "      <td>46.451500</td>\n",
       "      <td>Normal</td>\n",
       "      <td>210000</td>\n",
       "      <td>32</td>\n",
       "      <td>22</td>\n",
       "    </tr>\n",
       "    <tr>\n",
       "      <th>1457</th>\n",
       "      <td>9042</td>\n",
       "      <td>840.028926</td>\n",
       "      <td>Pave</td>\n",
       "      <td>1Fam</td>\n",
       "      <td>7</td>\n",
       "      <td>9</td>\n",
       "      <td>Gable</td>\n",
       "      <td>Ex</td>\n",
       "      <td>Gd</td>\n",
       "      <td>Stone</td>\n",
       "      <td>...</td>\n",
       "      <td>2340</td>\n",
       "      <td>217.393020</td>\n",
       "      <td>2</td>\n",
       "      <td>Gd</td>\n",
       "      <td>252</td>\n",
       "      <td>23.411556</td>\n",
       "      <td>Normal</td>\n",
       "      <td>266500</td>\n",
       "      <td>69</td>\n",
       "      <td>4</td>\n",
       "    </tr>\n",
       "    <tr>\n",
       "      <th>1458</th>\n",
       "      <td>9717</td>\n",
       "      <td>902.738451</td>\n",
       "      <td>Pave</td>\n",
       "      <td>1Fam</td>\n",
       "      <td>5</td>\n",
       "      <td>6</td>\n",
       "      <td>Hip</td>\n",
       "      <td>TA</td>\n",
       "      <td>TA</td>\n",
       "      <td>CBlock</td>\n",
       "      <td>...</td>\n",
       "      <td>1078</td>\n",
       "      <td>100.149434</td>\n",
       "      <td>1</td>\n",
       "      <td>Gd</td>\n",
       "      <td>240</td>\n",
       "      <td>22.296720</td>\n",
       "      <td>Normal</td>\n",
       "      <td>142125</td>\n",
       "      <td>60</td>\n",
       "      <td>14</td>\n",
       "    </tr>\n",
       "    <tr>\n",
       "      <th>1459</th>\n",
       "      <td>9937</td>\n",
       "      <td>923.177111</td>\n",
       "      <td>Pave</td>\n",
       "      <td>1Fam</td>\n",
       "      <td>5</td>\n",
       "      <td>6</td>\n",
       "      <td>Gable</td>\n",
       "      <td>Gd</td>\n",
       "      <td>TA</td>\n",
       "      <td>CBlock</td>\n",
       "      <td>...</td>\n",
       "      <td>1256</td>\n",
       "      <td>116.686168</td>\n",
       "      <td>2</td>\n",
       "      <td>TA</td>\n",
       "      <td>276</td>\n",
       "      <td>25.641228</td>\n",
       "      <td>Normal</td>\n",
       "      <td>147500</td>\n",
       "      <td>43</td>\n",
       "      <td>43</td>\n",
       "    </tr>\n",
       "  </tbody>\n",
       "</table>\n",
       "<p>1460 rows × 25 columns</p>\n",
       "</div>"
      ],
      "text/plain": [
       "      LotArea    LotArea_M Street BldgType  OverallQual  OverallCond  \\\n",
       "0        8450   785.030350   Pave     1Fam            7            5   \n",
       "1        9600   891.868800   Pave     1Fam            6            8   \n",
       "2       11250  1045.158750   Pave     1Fam            7            5   \n",
       "3        9550   887.223650   Pave     1Fam            7            5   \n",
       "4       14260  1324.796780   Pave     1Fam            8            5   \n",
       "...       ...          ...    ...      ...          ...          ...   \n",
       "1455     7917   735.513051   Pave     1Fam            6            5   \n",
       "1456    13175  1223.997025   Pave     1Fam            6            6   \n",
       "1457     9042   840.028926   Pave     1Fam            7            9   \n",
       "1458     9717   902.738451   Pave     1Fam            5            6   \n",
       "1459     9937   923.177111   Pave     1Fam            5            6   \n",
       "\n",
       "     RoofStyle ExterQual ExterCond Foundation  ...  GrLivArea  GrLivArea_M  \\\n",
       "0        Gable        Gd        TA      PConc  ...       1710   158.864130   \n",
       "1        Gable        TA        TA     CBlock  ...       1262   117.243586   \n",
       "2        Gable        Gd        TA      PConc  ...       1786   165.924758   \n",
       "3        Gable        TA        TA     BrkTil  ...       1717   159.514451   \n",
       "4        Gable        Gd        TA      PConc  ...       2198   204.200794   \n",
       "...        ...       ...       ...        ...  ...        ...          ...   \n",
       "1455     Gable        TA        TA      PConc  ...       1647   153.011241   \n",
       "1456     Gable        TA        TA     CBlock  ...       2073   192.587919   \n",
       "1457     Gable        Ex        Gd      Stone  ...       2340   217.393020   \n",
       "1458       Hip        TA        TA     CBlock  ...       1078   100.149434   \n",
       "1459     Gable        Gd        TA     CBlock  ...       1256   116.686168   \n",
       "\n",
       "     Bath KitchenQual GarageArea  GarageArea_M  SaleCondition  SalePrice age  \\\n",
       "0       3          Gd        548     50.910844         Normal     208500   5   \n",
       "1       2          TA        460     42.735380         Normal     181500  31   \n",
       "2       3          Gd        608     56.485024         Normal     223500   7   \n",
       "3       1          Gd        642     59.643726        Abnorml     140000  91   \n",
       "4       3          Gd        836     77.666908         Normal     250000   8   \n",
       "...   ...         ...        ...           ...            ...        ...  ..   \n",
       "1455    3          TA        460     42.735380         Normal     175000   8   \n",
       "1456    2          TA        500     46.451500         Normal     210000  32   \n",
       "1457    2          Gd        252     23.411556         Normal     266500  69   \n",
       "1458    1          Gd        240     22.296720         Normal     142125  60   \n",
       "1459    2          TA        276     25.641228         Normal     147500  43   \n",
       "\n",
       "      age_RemodAdd_DateSold  \n",
       "0                         5  \n",
       "1                        31  \n",
       "2                         6  \n",
       "3                        36  \n",
       "4                         8  \n",
       "...                     ...  \n",
       "1455                      7  \n",
       "1456                     22  \n",
       "1457                      4  \n",
       "1458                     14  \n",
       "1459                     43  \n",
       "\n",
       "[1460 rows x 25 columns]"
      ]
     },
     "execution_count": 69,
     "metadata": {},
     "output_type": "execute_result"
    }
   ],
   "source": [
    "df_new = df.drop(['YearBuilt', 'YearRemodAdd', 'DateSold', 'DateSold_year'], axis= 1)\n",
    "df_new"
   ]
  },
  {
   "cell_type": "code",
   "execution_count": 70,
   "id": "pqXqeUldLHyg",
   "metadata": {
    "colab": {
     "base_uri": "https://localhost:8080/"
    },
    "executionInfo": {
     "elapsed": 286,
     "status": "ok",
     "timestamp": 1718471771772,
     "user": {
      "displayName": "Yozhik31",
      "userId": "07739058683274005436"
     },
     "user_tz": -180
    },
    "id": "pqXqeUldLHyg",
    "outputId": "c327d6ba-c307-4864-d27e-51a677970448"
   },
   "outputs": [
    {
     "name": "stdout",
     "output_type": "stream",
     "text": [
      "<class 'pandas.core.frame.DataFrame'>\n",
      "RangeIndex: 1460 entries, 0 to 1459\n",
      "Data columns (total 25 columns):\n",
      " #   Column                 Non-Null Count  Dtype  \n",
      "---  ------                 --------------  -----  \n",
      " 0   LotArea                1460 non-null   int64  \n",
      " 1   LotArea_M              1460 non-null   float64\n",
      " 2   Street                 1460 non-null   object \n",
      " 3   BldgType               1460 non-null   object \n",
      " 4   OverallQual            1460 non-null   int64  \n",
      " 5   OverallCond            1460 non-null   int64  \n",
      " 6   RoofStyle              1460 non-null   object \n",
      " 7   ExterQual              1460 non-null   object \n",
      " 8   ExterCond              1460 non-null   object \n",
      " 9   Foundation             1460 non-null   object \n",
      " 10  TotalBsmtSF            1460 non-null   int64  \n",
      " 11  TotalBsmtSF_M          1460 non-null   float64\n",
      " 12  Heating                1460 non-null   object \n",
      " 13  HeatingQC              1460 non-null   object \n",
      " 14  CentralAir             1460 non-null   object \n",
      " 15  GrLivArea              1460 non-null   int64  \n",
      " 16  GrLivArea_M            1460 non-null   float64\n",
      " 17  Bath                   1460 non-null   int64  \n",
      " 18  KitchenQual            1460 non-null   object \n",
      " 19  GarageArea             1460 non-null   int64  \n",
      " 20  GarageArea_M           1460 non-null   float64\n",
      " 21  SaleCondition          1460 non-null   object \n",
      " 22  SalePrice              1460 non-null   int64  \n",
      " 23  age                    1460 non-null   int64  \n",
      " 24  age_RemodAdd_DateSold  1460 non-null   int64  \n",
      "dtypes: float64(4), int64(10), object(11)\n",
      "memory usage: 285.3+ KB\n"
     ]
    }
   ],
   "source": [
    "df_new.info()"
   ]
  },
  {
   "cell_type": "markdown",
   "id": "5pXxpAPM8jQu",
   "metadata": {
    "id": "5pXxpAPM8jQu"
   },
   "source": [
    "#### Анализ целевой переменной SalePrice - \"Цена продажи\""
   ]
  },
  {
   "cell_type": "code",
   "execution_count": 71,
   "id": "XAGbrNu58SpO",
   "metadata": {
    "id": "XAGbrNu58SpO"
   },
   "outputs": [],
   "source": [
    "# Создаем функцию (ядерная оценка плотности)\n",
    "# Подбираем ширину окна\n",
    "my_df = gaussian_kde(df_new['SalePrice'], bw_method=0.1)"
   ]
  },
  {
   "cell_type": "code",
   "execution_count": 72,
   "id": "DXeyE0hOp8sT",
   "metadata": {
    "colab": {
     "base_uri": "https://localhost:8080/",
     "height": 522
    },
    "executionInfo": {
     "elapsed": 833,
     "status": "ok",
     "timestamp": 1718471791163,
     "user": {
      "displayName": "Yozhik31",
      "userId": "07739058683274005436"
     },
     "user_tz": -180
    },
    "id": "DXeyE0hOp8sT",
    "outputId": "1c0740f0-3285-481a-8122-3af214d87270"
   },
   "outputs": [
    {
     "data": {
      "text/plain": [
       "Text(0.5, 1.0, 'Density Plot SalePrice')"
      ]
     },
     "execution_count": 72,
     "metadata": {},
     "output_type": "execute_result"
    },
    {
     "data": {
      "image/png": "[encoded data removed]",
      "text/plain": [
       "<Figure size 640x480 with 1 Axes>"
      ]
     },
     "metadata": {},
     "output_type": "display_data"
    }
   ],
   "source": [
    "# График ядерной оценки плотности\n",
    "x = linspace(min(df_new['SalePrice']), max(df_new['SalePrice']),1000)\n",
    "plot(x, my_df(x), 'g')   # оценка плотности\n",
    "plt.title('Density Plot SalePrice')"
   ]
  },
  {
   "cell_type": "markdown",
   "id": "8FwmNVFJ8xak",
   "metadata": {
    "id": "8FwmNVFJ8xak"
   },
   "source": [
    "Из-за длинного хвоста вправо нам доволно сложно увидеть распределение, но ещё большее влияние он оказывает на модель: такое распределение может сильно её запутать, что приведет к недостаточно хорошему обучению.\n",
    "Одним из способов решения этой проблемы служит лагарифмическое преобразование. Применив функцию log к цене продажи, мы устраним этот нежелательный эффект.\n",
    "Очевидно, что нулевых значений в цене нет. Добавление 1 важно когда в данных имеются нули."
   ]
  },
  {
   "cell_type": "code",
   "execution_count": 73,
   "id": "pckpceSJ8zPF",
   "metadata": {
    "id": "pckpceSJ8zPF"
   },
   "outputs": [],
   "source": [
    "df_new['SalePrice']=np.log1p(df_new['SalePrice'])"
   ]
  },
  {
   "cell_type": "code",
   "execution_count": 74,
   "id": "i0-eowniz6DO",
   "metadata": {
    "id": "i0-eowniz6DO"
   },
   "outputs": [],
   "source": [
    "my_df = gaussian_kde(df_new['SalePrice'], bw_method=0.1)"
   ]
  },
  {
   "cell_type": "code",
   "execution_count": 75,
   "id": "JbMaD0LD0t9m",
   "metadata": {
    "colab": {
     "base_uri": "https://localhost:8080/",
     "height": 522
    },
    "executionInfo": {
     "elapsed": 804,
     "status": "ok",
     "timestamp": 1718471827560,
     "user": {
      "displayName": "Yozhik31",
      "userId": "07739058683274005436"
     },
     "user_tz": -180
    },
    "id": "JbMaD0LD0t9m",
    "outputId": "401bc449-ed7f-46c3-c5fc-bc7ce51ea4cd"
   },
   "outputs": [
    {
     "data": {
      "text/plain": [
       "Text(0.5, 1.0, 'Density Plot Log(SalePrice)')"
      ]
     },
     "execution_count": 75,
     "metadata": {},
     "output_type": "execute_result"
    },
    {
     "data": {
      "image/png": "[encoded data removed]",
      "text/plain": [
       "<Figure size 640x480 with 1 Axes>"
      ]
     },
     "metadata": {},
     "output_type": "display_data"
    }
   ],
   "source": [
    "x = linspace(min(df_new['SalePrice']), max(df_new['SalePrice']),1000)\n",
    "plot(x, my_df(x), 'g')   # оценка плотности\n",
    "plt.title('Density Plot Log(SalePrice)')"
   ]
  },
  {
   "cell_type": "markdown",
   "id": "b8721c08-a48e-49b7-9fc1-ce2c048ad79a",
   "metadata": {
    "id": "b8721c08-a48e-49b7-9fc1-ce2c048ad79a"
   },
   "source": [
    "2. Постройте матрицу корреляций числовых признаков. Удалите линейно-зависимые признаки из данных."
   ]
  },
  {
   "cell_type": "code",
   "execution_count": 76,
   "id": "05419a99-e48f-4317-97bb-a109719fb5a8",
   "metadata": {
    "id": "05419a99-e48f-4317-97bb-a109719fb5a8"
   },
   "outputs": [],
   "source": [
    "### Ваш код здесь ###\n",
    "# создадим измененный список названий числовых переменных\n",
    "numerical_features_new = ['LotArea', 'LotArea_M', 'OverallQual', 'OverallCond','TotalBsmtSF',\n",
    "                          'TotalBsmtSF_M', 'GrLivArea', 'GrLivArea_M', 'Bath', 'GarageArea', 'GarageArea_M', 'SalePrice', 'age', 'age_RemodAdd_DateSold']"
   ]
  },
  {
   "cell_type": "code",
   "execution_count": 77,
   "id": "BTbYp8FvaFLh",
   "metadata": {
    "colab": {
     "base_uri": "https://localhost:8080/",
     "height": 1000
    },
    "executionInfo": {
     "elapsed": 770,
     "status": "ok",
     "timestamp": 1718471852392,
     "user": {
      "displayName": "Yozhik31",
      "userId": "07739058683274005436"
     },
     "user_tz": -180
    },
    "id": "BTbYp8FvaFLh",
    "outputId": "987ccb67-68c8-4b05-b89d-b5f29e63757b"
   },
   "outputs": [
    {
     "name": "stdout",
     "output_type": "stream",
     "text": [
      "                       LotArea  LotArea_M  OverallQual  OverallCond  \\\n",
      "LotArea                   1.00       1.00         0.11        -0.01   \n",
      "LotArea_M                 1.00       1.00         0.11        -0.01   \n",
      "OverallQual               0.11       0.11         1.00        -0.09   \n",
      "OverallCond              -0.01      -0.01        -0.09         1.00   \n",
      "TotalBsmtSF               0.26       0.26         0.54        -0.17   \n",
      "TotalBsmtSF_M             0.26       0.26         0.54        -0.17   \n",
      "GrLivArea                 0.26       0.26         0.59        -0.08   \n",
      "GrLivArea_M               0.26       0.26         0.59        -0.08   \n",
      "Bath                      0.10       0.10         0.55        -0.17   \n",
      "GarageArea                0.18       0.18         0.56        -0.15   \n",
      "GarageArea_M              0.18       0.18         0.56        -0.15   \n",
      "SalePrice                 0.26       0.26         0.82        -0.04   \n",
      "age                      -0.01      -0.01        -0.57         0.38   \n",
      "age_RemodAdd_DateSold    -0.01      -0.01        -0.55        -0.07   \n",
      "\n",
      "                       TotalBsmtSF  TotalBsmtSF_M  GrLivArea  GrLivArea_M  \\\n",
      "LotArea                       0.26           0.26       0.26         0.26   \n",
      "LotArea_M                     0.26           0.26       0.26         0.26   \n",
      "OverallQual                   0.54           0.54       0.59         0.59   \n",
      "OverallCond                  -0.17          -0.17      -0.08        -0.08   \n",
      "TotalBsmtSF                   1.00           1.00       0.45         0.45   \n",
      "TotalBsmtSF_M                 1.00           1.00       0.45         0.45   \n",
      "GrLivArea                     0.45           0.45       1.00         1.00   \n",
      "GrLivArea_M                   0.45           0.45       1.00         1.00   \n",
      "Bath                          0.19           0.19       0.70         0.70   \n",
      "GarageArea                    0.49           0.49       0.47         0.47   \n",
      "GarageArea_M                  0.49           0.49       0.47         0.47   \n",
      "SalePrice                     0.61           0.61       0.70         0.70   \n",
      "age                          -0.39          -0.39      -0.20        -0.20   \n",
      "age_RemodAdd_DateSold        -0.29          -0.29      -0.29        -0.29   \n",
      "\n",
      "                       Bath  GarageArea  GarageArea_M  SalePrice   age  \\\n",
      "LotArea                0.10        0.18          0.18       0.26 -0.01   \n",
      "LotArea_M              0.10        0.18          0.18       0.26 -0.01   \n",
      "OverallQual            0.55        0.56          0.56       0.82 -0.57   \n",
      "OverallCond           -0.17       -0.15         -0.15      -0.04  0.38   \n",
      "TotalBsmtSF            0.19        0.49          0.49       0.61 -0.39   \n",
      "TotalBsmtSF_M          0.19        0.49          0.49       0.61 -0.39   \n",
      "GrLivArea              0.70        0.47          0.47       0.70 -0.20   \n",
      "GrLivArea_M            0.70        0.47          0.47       0.70 -0.20   \n",
      "Bath                   1.00        0.38          0.38       0.61 -0.48   \n",
      "GarageArea             0.38        1.00          1.00       0.65 -0.48   \n",
      "GarageArea_M           0.38        1.00          1.00       0.65 -0.48   \n",
      "SalePrice              0.61        0.65          0.65       1.00 -0.59   \n",
      "age                   -0.48       -0.48         -0.48      -0.59  1.00   \n",
      "age_RemodAdd_DateSold -0.42       -0.37         -0.37      -0.57  0.59   \n",
      "\n",
      "                       age_RemodAdd_DateSold  \n",
      "LotArea                                -0.01  \n",
      "LotArea_M                              -0.01  \n",
      "OverallQual                            -0.55  \n",
      "OverallCond                            -0.07  \n",
      "TotalBsmtSF                            -0.29  \n",
      "TotalBsmtSF_M                          -0.29  \n",
      "GrLivArea                              -0.29  \n",
      "GrLivArea_M                            -0.29  \n",
      "Bath                                   -0.42  \n",
      "GarageArea                             -0.37  \n",
      "GarageArea_M                           -0.37  \n",
      "SalePrice                              -0.57  \n",
      "age                                     0.59  \n",
      "age_RemodAdd_DateSold                   1.00  \n",
      "\n",
      " Матрица корелляций\n"
     ]
    },
    {
     "data": {
      "image/png": "[encoded data removed]",
      "text/plain": [
       "<Figure size 640x480 with 2 Axes>"
      ]
     },
     "metadata": {},
     "output_type": "display_data"
    }
   ],
   "source": [
    "# Построение матрицы корреляций\n",
    "correlation_matrix = df_new[numerical_features_new].corr()\n",
    "\n",
    "# Вывод матрицы корреляций\n",
    "print(correlation_matrix.round(2))\n",
    "# Создание тепловой карты\n",
    "plt.imshow(correlation_matrix, cmap='hot', interpolation='nearest')\n",
    "plt.colorbar()\n",
    "print('\\n Матрица корелляций')\n",
    "# Отображение тепловой карты\n",
    "plt.show()"
   ]
  },
  {
   "cell_type": "code",
   "execution_count": 78,
   "id": "tEO4y1jpheUG",
   "metadata": {
    "colab": {
     "base_uri": "https://localhost:8080/"
    },
    "executionInfo": {
     "elapsed": 305,
     "status": "ok",
     "timestamp": 1718471870194,
     "user": {
      "displayName": "Yozhik31",
      "userId": "07739058683274005436"
     },
     "user_tz": -180
    },
    "id": "tEO4y1jpheUG",
    "outputId": "7698e61e-2274-4ad3-ca64-206a56837fce"
   },
   "outputs": [
    {
     "name": "stdout",
     "output_type": "stream",
     "text": [
      "Линейно-зависимые признаки:\n",
      "{'LotArea', 'GrLivArea_M', 'TotalBsmtSF', 'GarageArea', 'GrLivArea', 'GarageArea_M', 'TotalBsmtSF_M', 'LotArea_M'}\n"
     ]
    }
   ],
   "source": [
    "# Установка порога для определения линейно-зависимых признаков\n",
    "threshold = 0.9\n",
    "\n",
    "# Поиск линейно-зависимых признаков\n",
    "linearly_dependent_features = set()\n",
    "for i in range(len(correlation_matrix.columns)):\n",
    "    for j in range(i):\n",
    "        if abs(correlation_matrix.iloc[i, j]) > threshold:\n",
    "            feature_i = correlation_matrix.columns[i]\n",
    "            feature_j = correlation_matrix.columns[j]\n",
    "            linearly_dependent_features.add(feature_i)\n",
    "            linearly_dependent_features.add(feature_j)\n",
    "\n",
    "# Вывод линейно-зависимых признаков\n",
    "print(\"Линейно-зависимые признаки:\")\n",
    "print(linearly_dependent_features)"
   ]
  },
  {
   "cell_type": "code",
   "execution_count": 79,
   "id": "O-BZvKyKiGMf",
   "metadata": {
    "colab": {
     "base_uri": "https://localhost:8080/",
     "height": 864
    },
    "executionInfo": {
     "elapsed": 789,
     "status": "ok",
     "timestamp": 1718471931497,
     "user": {
      "displayName": "Yozhik31",
      "userId": "07739058683274005436"
     },
     "user_tz": -180
    },
    "id": "O-BZvKyKiGMf",
    "outputId": "694c2827-3787-432d-abc5-b9d0e47d07a1"
   },
   "outputs": [
    {
     "name": "stdout",
     "output_type": "stream",
     "text": [
      "               LotArea  GrLivArea_M  TotalBsmtSF  GarageArea  GrLivArea  \\\n",
      "LotArea           1.00         0.26         0.26        0.18       0.26   \n",
      "GrLivArea_M       0.26         1.00         0.45        0.47       1.00   \n",
      "TotalBsmtSF       0.26         0.45         1.00        0.49       0.45   \n",
      "GarageArea        0.18         0.47         0.49        1.00       0.47   \n",
      "GrLivArea         0.26         1.00         0.45        0.47       1.00   \n",
      "GarageArea_M      0.18         0.47         0.49        1.00       0.47   \n",
      "TotalBsmtSF_M     0.26         0.45         1.00        0.49       0.45   \n",
      "LotArea_M         1.00         0.26         0.26        0.18       0.26   \n",
      "\n",
      "               GarageArea_M  TotalBsmtSF_M  LotArea_M  \n",
      "LotArea                0.18           0.26       1.00  \n",
      "GrLivArea_M            0.47           0.45       0.26  \n",
      "TotalBsmtSF            0.49           1.00       0.26  \n",
      "GarageArea             1.00           0.49       0.18  \n",
      "GrLivArea              0.47           0.45       0.26  \n",
      "GarageArea_M           1.00           0.49       0.18  \n",
      "TotalBsmtSF_M          0.49           1.00       0.26  \n",
      "LotArea_M              0.18           0.26       1.00  \n",
      "\n",
      " Матрица корелляций линейно-зависимых признаков\n"
     ]
    },
    {
     "data": {
      "image/png": "[encoded data removed]",
      "text/plain": [
       "<Figure size 640x480 with 2 Axes>"
      ]
     },
     "metadata": {},
     "output_type": "display_data"
    }
   ],
   "source": [
    "# Построение матрицы корреляций\n",
    "correlation_matrix = df_new[list(linearly_dependent_features)].corr()\n",
    "\n",
    "# Вывод матрицы корреляций\n",
    "print(correlation_matrix.round(2))\n",
    "# Создание тепловой карты\n",
    "plt.imshow(correlation_matrix, cmap='hot', interpolation='nearest')\n",
    "plt.colorbar()\n",
    "print('\\n Матрица корелляций линейно-зависимых признаков')\n",
    "# Отображение тепловой карты\n",
    "plt.show()"
   ]
  },
  {
   "cell_type": "code",
   "execution_count": 80,
   "id": "5uaGdEvCjJ4O",
   "metadata": {
    "id": "5uaGdEvCjJ4O"
   },
   "outputs": [],
   "source": [
    "# Список линейно-зависимых признаков (удалим площадь в м. кв., оставим  в футах)\n",
    "linear_dependent_features = ['TotalBsmtSF_M', 'GarageArea_M', 'LotArea_M', 'GrLivArea_M'] #  или ['TotalBsmtSF', 'GarageArea', 'LotArea', 'GrLivArea']\n",
    "\n",
    "# Удалите линейно-зависимые признаки из датафрейма\n",
    "df_new = df_new.drop(linear_dependent_features, axis=1)"
   ]
  },
  {
   "cell_type": "code",
   "execution_count": 81,
   "id": "ymhv0q65jmmh",
   "metadata": {
    "colab": {
     "base_uri": "https://localhost:8080/",
     "height": 444
    },
    "executionInfo": {
     "elapsed": 333,
     "status": "ok",
     "timestamp": 1718472030226,
     "user": {
      "displayName": "Yozhik31",
      "userId": "07739058683274005436"
     },
     "user_tz": -180
    },
    "id": "ymhv0q65jmmh",
    "outputId": "91be88a0-ae44-4721-8970-1fbc9935fb84"
   },
   "outputs": [
    {
     "data": {
      "text/html": [
       "<div>\n",
       "<style scoped>\n",
       "    .dataframe tbody tr th:only-of-type {\n",
       "        vertical-align: middle;\n",
       "    }\n",
       "\n",
       "    .dataframe tbody tr th {\n",
       "        vertical-align: top;\n",
       "    }\n",
       "\n",
       "    .dataframe thead th {\n",
       "        text-align: right;\n",
       "    }\n",
       "</style>\n",
       "<table border=\"1\" class=\"dataframe\">\n",
       "  <thead>\n",
       "    <tr style=\"text-align: right;\">\n",
       "      <th></th>\n",
       "      <th>LotArea</th>\n",
       "      <th>Street</th>\n",
       "      <th>BldgType</th>\n",
       "      <th>OverallQual</th>\n",
       "      <th>OverallCond</th>\n",
       "      <th>RoofStyle</th>\n",
       "      <th>ExterQual</th>\n",
       "      <th>ExterCond</th>\n",
       "      <th>Foundation</th>\n",
       "      <th>TotalBsmtSF</th>\n",
       "      <th>...</th>\n",
       "      <th>HeatingQC</th>\n",
       "      <th>CentralAir</th>\n",
       "      <th>GrLivArea</th>\n",
       "      <th>Bath</th>\n",
       "      <th>KitchenQual</th>\n",
       "      <th>GarageArea</th>\n",
       "      <th>SaleCondition</th>\n",
       "      <th>SalePrice</th>\n",
       "      <th>age</th>\n",
       "      <th>age_RemodAdd_DateSold</th>\n",
       "    </tr>\n",
       "  </thead>\n",
       "  <tbody>\n",
       "    <tr>\n",
       "      <th>0</th>\n",
       "      <td>8450</td>\n",
       "      <td>Pave</td>\n",
       "      <td>1Fam</td>\n",
       "      <td>7</td>\n",
       "      <td>5</td>\n",
       "      <td>Gable</td>\n",
       "      <td>Gd</td>\n",
       "      <td>TA</td>\n",
       "      <td>PConc</td>\n",
       "      <td>856</td>\n",
       "      <td>...</td>\n",
       "      <td>Ex</td>\n",
       "      <td>Y</td>\n",
       "      <td>1710</td>\n",
       "      <td>3</td>\n",
       "      <td>Gd</td>\n",
       "      <td>548</td>\n",
       "      <td>Normal</td>\n",
       "      <td>12.247699</td>\n",
       "      <td>5</td>\n",
       "      <td>5</td>\n",
       "    </tr>\n",
       "    <tr>\n",
       "      <th>1</th>\n",
       "      <td>9600</td>\n",
       "      <td>Pave</td>\n",
       "      <td>1Fam</td>\n",
       "      <td>6</td>\n",
       "      <td>8</td>\n",
       "      <td>Gable</td>\n",
       "      <td>TA</td>\n",
       "      <td>TA</td>\n",
       "      <td>CBlock</td>\n",
       "      <td>1262</td>\n",
       "      <td>...</td>\n",
       "      <td>Ex</td>\n",
       "      <td>Y</td>\n",
       "      <td>1262</td>\n",
       "      <td>2</td>\n",
       "      <td>TA</td>\n",
       "      <td>460</td>\n",
       "      <td>Normal</td>\n",
       "      <td>12.109016</td>\n",
       "      <td>31</td>\n",
       "      <td>31</td>\n",
       "    </tr>\n",
       "    <tr>\n",
       "      <th>2</th>\n",
       "      <td>11250</td>\n",
       "      <td>Pave</td>\n",
       "      <td>1Fam</td>\n",
       "      <td>7</td>\n",
       "      <td>5</td>\n",
       "      <td>Gable</td>\n",
       "      <td>Gd</td>\n",
       "      <td>TA</td>\n",
       "      <td>PConc</td>\n",
       "      <td>920</td>\n",
       "      <td>...</td>\n",
       "      <td>Ex</td>\n",
       "      <td>Y</td>\n",
       "      <td>1786</td>\n",
       "      <td>3</td>\n",
       "      <td>Gd</td>\n",
       "      <td>608</td>\n",
       "      <td>Normal</td>\n",
       "      <td>12.317171</td>\n",
       "      <td>7</td>\n",
       "      <td>6</td>\n",
       "    </tr>\n",
       "    <tr>\n",
       "      <th>3</th>\n",
       "      <td>9550</td>\n",
       "      <td>Pave</td>\n",
       "      <td>1Fam</td>\n",
       "      <td>7</td>\n",
       "      <td>5</td>\n",
       "      <td>Gable</td>\n",
       "      <td>TA</td>\n",
       "      <td>TA</td>\n",
       "      <td>BrkTil</td>\n",
       "      <td>756</td>\n",
       "      <td>...</td>\n",
       "      <td>Gd</td>\n",
       "      <td>Y</td>\n",
       "      <td>1717</td>\n",
       "      <td>1</td>\n",
       "      <td>Gd</td>\n",
       "      <td>642</td>\n",
       "      <td>Abnorml</td>\n",
       "      <td>11.849405</td>\n",
       "      <td>91</td>\n",
       "      <td>36</td>\n",
       "    </tr>\n",
       "    <tr>\n",
       "      <th>4</th>\n",
       "      <td>14260</td>\n",
       "      <td>Pave</td>\n",
       "      <td>1Fam</td>\n",
       "      <td>8</td>\n",
       "      <td>5</td>\n",
       "      <td>Gable</td>\n",
       "      <td>Gd</td>\n",
       "      <td>TA</td>\n",
       "      <td>PConc</td>\n",
       "      <td>1145</td>\n",
       "      <td>...</td>\n",
       "      <td>Ex</td>\n",
       "      <td>Y</td>\n",
       "      <td>2198</td>\n",
       "      <td>3</td>\n",
       "      <td>Gd</td>\n",
       "      <td>836</td>\n",
       "      <td>Normal</td>\n",
       "      <td>12.429220</td>\n",
       "      <td>8</td>\n",
       "      <td>8</td>\n",
       "    </tr>\n",
       "    <tr>\n",
       "      <th>...</th>\n",
       "      <td>...</td>\n",
       "      <td>...</td>\n",
       "      <td>...</td>\n",
       "      <td>...</td>\n",
       "      <td>...</td>\n",
       "      <td>...</td>\n",
       "      <td>...</td>\n",
       "      <td>...</td>\n",
       "      <td>...</td>\n",
       "      <td>...</td>\n",
       "      <td>...</td>\n",
       "      <td>...</td>\n",
       "      <td>...</td>\n",
       "      <td>...</td>\n",
       "      <td>...</td>\n",
       "      <td>...</td>\n",
       "      <td>...</td>\n",
       "      <td>...</td>\n",
       "      <td>...</td>\n",
       "      <td>...</td>\n",
       "      <td>...</td>\n",
       "    </tr>\n",
       "    <tr>\n",
       "      <th>1455</th>\n",
       "      <td>7917</td>\n",
       "      <td>Pave</td>\n",
       "      <td>1Fam</td>\n",
       "      <td>6</td>\n",
       "      <td>5</td>\n",
       "      <td>Gable</td>\n",
       "      <td>TA</td>\n",
       "      <td>TA</td>\n",
       "      <td>PConc</td>\n",
       "      <td>953</td>\n",
       "      <td>...</td>\n",
       "      <td>Ex</td>\n",
       "      <td>Y</td>\n",
       "      <td>1647</td>\n",
       "      <td>3</td>\n",
       "      <td>TA</td>\n",
       "      <td>460</td>\n",
       "      <td>Normal</td>\n",
       "      <td>12.072547</td>\n",
       "      <td>8</td>\n",
       "      <td>7</td>\n",
       "    </tr>\n",
       "    <tr>\n",
       "      <th>1456</th>\n",
       "      <td>13175</td>\n",
       "      <td>Pave</td>\n",
       "      <td>1Fam</td>\n",
       "      <td>6</td>\n",
       "      <td>6</td>\n",
       "      <td>Gable</td>\n",
       "      <td>TA</td>\n",
       "      <td>TA</td>\n",
       "      <td>CBlock</td>\n",
       "      <td>1542</td>\n",
       "      <td>...</td>\n",
       "      <td>TA</td>\n",
       "      <td>Y</td>\n",
       "      <td>2073</td>\n",
       "      <td>2</td>\n",
       "      <td>TA</td>\n",
       "      <td>500</td>\n",
       "      <td>Normal</td>\n",
       "      <td>12.254868</td>\n",
       "      <td>32</td>\n",
       "      <td>22</td>\n",
       "    </tr>\n",
       "    <tr>\n",
       "      <th>1457</th>\n",
       "      <td>9042</td>\n",
       "      <td>Pave</td>\n",
       "      <td>1Fam</td>\n",
       "      <td>7</td>\n",
       "      <td>9</td>\n",
       "      <td>Gable</td>\n",
       "      <td>Ex</td>\n",
       "      <td>Gd</td>\n",
       "      <td>Stone</td>\n",
       "      <td>1152</td>\n",
       "      <td>...</td>\n",
       "      <td>Ex</td>\n",
       "      <td>Y</td>\n",
       "      <td>2340</td>\n",
       "      <td>2</td>\n",
       "      <td>Gd</td>\n",
       "      <td>252</td>\n",
       "      <td>Normal</td>\n",
       "      <td>12.493133</td>\n",
       "      <td>69</td>\n",
       "      <td>4</td>\n",
       "    </tr>\n",
       "    <tr>\n",
       "      <th>1458</th>\n",
       "      <td>9717</td>\n",
       "      <td>Pave</td>\n",
       "      <td>1Fam</td>\n",
       "      <td>5</td>\n",
       "      <td>6</td>\n",
       "      <td>Hip</td>\n",
       "      <td>TA</td>\n",
       "      <td>TA</td>\n",
       "      <td>CBlock</td>\n",
       "      <td>1078</td>\n",
       "      <td>...</td>\n",
       "      <td>Gd</td>\n",
       "      <td>Y</td>\n",
       "      <td>1078</td>\n",
       "      <td>1</td>\n",
       "      <td>Gd</td>\n",
       "      <td>240</td>\n",
       "      <td>Normal</td>\n",
       "      <td>11.864469</td>\n",
       "      <td>60</td>\n",
       "      <td>14</td>\n",
       "    </tr>\n",
       "    <tr>\n",
       "      <th>1459</th>\n",
       "      <td>9937</td>\n",
       "      <td>Pave</td>\n",
       "      <td>1Fam</td>\n",
       "      <td>5</td>\n",
       "      <td>6</td>\n",
       "      <td>Gable</td>\n",
       "      <td>Gd</td>\n",
       "      <td>TA</td>\n",
       "      <td>CBlock</td>\n",
       "      <td>1256</td>\n",
       "      <td>...</td>\n",
       "      <td>Gd</td>\n",
       "      <td>Y</td>\n",
       "      <td>1256</td>\n",
       "      <td>2</td>\n",
       "      <td>TA</td>\n",
       "      <td>276</td>\n",
       "      <td>Normal</td>\n",
       "      <td>11.901590</td>\n",
       "      <td>43</td>\n",
       "      <td>43</td>\n",
       "    </tr>\n",
       "  </tbody>\n",
       "</table>\n",
       "<p>1460 rows × 21 columns</p>\n",
       "</div>"
      ],
      "text/plain": [
       "      LotArea Street BldgType  OverallQual  OverallCond RoofStyle ExterQual  \\\n",
       "0        8450   Pave     1Fam            7            5     Gable        Gd   \n",
       "1        9600   Pave     1Fam            6            8     Gable        TA   \n",
       "2       11250   Pave     1Fam            7            5     Gable        Gd   \n",
       "3        9550   Pave     1Fam            7            5     Gable        TA   \n",
       "4       14260   Pave     1Fam            8            5     Gable        Gd   \n",
       "...       ...    ...      ...          ...          ...       ...       ...   \n",
       "1455     7917   Pave     1Fam            6            5     Gable        TA   \n",
       "1456    13175   Pave     1Fam            6            6     Gable        TA   \n",
       "1457     9042   Pave     1Fam            7            9     Gable        Ex   \n",
       "1458     9717   Pave     1Fam            5            6       Hip        TA   \n",
       "1459     9937   Pave     1Fam            5            6     Gable        Gd   \n",
       "\n",
       "     ExterCond Foundation  TotalBsmtSF  ... HeatingQC CentralAir GrLivArea  \\\n",
       "0           TA      PConc          856  ...        Ex          Y      1710   \n",
       "1           TA     CBlock         1262  ...        Ex          Y      1262   \n",
       "2           TA      PConc          920  ...        Ex          Y      1786   \n",
       "3           TA     BrkTil          756  ...        Gd          Y      1717   \n",
       "4           TA      PConc         1145  ...        Ex          Y      2198   \n",
       "...        ...        ...          ...  ...       ...        ...       ...   \n",
       "1455        TA      PConc          953  ...        Ex          Y      1647   \n",
       "1456        TA     CBlock         1542  ...        TA          Y      2073   \n",
       "1457        Gd      Stone         1152  ...        Ex          Y      2340   \n",
       "1458        TA     CBlock         1078  ...        Gd          Y      1078   \n",
       "1459        TA     CBlock         1256  ...        Gd          Y      1256   \n",
       "\n",
       "      Bath  KitchenQual GarageArea  SaleCondition  SalePrice  age  \\\n",
       "0        3           Gd        548         Normal  12.247699    5   \n",
       "1        2           TA        460         Normal  12.109016   31   \n",
       "2        3           Gd        608         Normal  12.317171    7   \n",
       "3        1           Gd        642        Abnorml  11.849405   91   \n",
       "4        3           Gd        836         Normal  12.429220    8   \n",
       "...    ...          ...        ...            ...        ...  ...   \n",
       "1455     3           TA        460         Normal  12.072547    8   \n",
       "1456     2           TA        500         Normal  12.254868   32   \n",
       "1457     2           Gd        252         Normal  12.493133   69   \n",
       "1458     1           Gd        240         Normal  11.864469   60   \n",
       "1459     2           TA        276         Normal  11.901590   43   \n",
       "\n",
       "      age_RemodAdd_DateSold  \n",
       "0                         5  \n",
       "1                        31  \n",
       "2                         6  \n",
       "3                        36  \n",
       "4                         8  \n",
       "...                     ...  \n",
       "1455                      7  \n",
       "1456                     22  \n",
       "1457                      4  \n",
       "1458                     14  \n",
       "1459                     43  \n",
       "\n",
       "[1460 rows x 21 columns]"
      ]
     },
     "execution_count": 81,
     "metadata": {},
     "output_type": "execute_result"
    }
   ],
   "source": [
    "df_new"
   ]
  },
  {
   "cell_type": "code",
   "execution_count": 82,
   "id": "7itihAla6bb7",
   "metadata": {
    "colab": {
     "base_uri": "https://localhost:8080/"
    },
    "executionInfo": {
     "elapsed": 317,
     "status": "ok",
     "timestamp": 1718472047702,
     "user": {
      "displayName": "Yozhik31",
      "userId": "07739058683274005436"
     },
     "user_tz": -180
    },
    "id": "7itihAla6bb7",
    "outputId": "83dd8ae4-f40e-43a2-9729-2c187ebf89d4"
   },
   "outputs": [
    {
     "name": "stdout",
     "output_type": "stream",
     "text": [
      "<class 'pandas.core.frame.DataFrame'>\n",
      "RangeIndex: 1460 entries, 0 to 1459\n",
      "Data columns (total 21 columns):\n",
      " #   Column                 Non-Null Count  Dtype  \n",
      "---  ------                 --------------  -----  \n",
      " 0   LotArea                1460 non-null   int64  \n",
      " 1   Street                 1460 non-null   object \n",
      " 2   BldgType               1460 non-null   object \n",
      " 3   OverallQual            1460 non-null   int64  \n",
      " 4   OverallCond            1460 non-null   int64  \n",
      " 5   RoofStyle              1460 non-null   object \n",
      " 6   ExterQual              1460 non-null   object \n",
      " 7   ExterCond              1460 non-null   object \n",
      " 8   Foundation             1460 non-null   object \n",
      " 9   TotalBsmtSF            1460 non-null   int64  \n",
      " 10  Heating                1460 non-null   object \n",
      " 11  HeatingQC              1460 non-null   object \n",
      " 12  CentralAir             1460 non-null   object \n",
      " 13  GrLivArea              1460 non-null   int64  \n",
      " 14  Bath                   1460 non-null   int64  \n",
      " 15  KitchenQual            1460 non-null   object \n",
      " 16  GarageArea             1460 non-null   int64  \n",
      " 17  SaleCondition          1460 non-null   object \n",
      " 18  SalePrice              1460 non-null   float64\n",
      " 19  age                    1460 non-null   int64  \n",
      " 20  age_RemodAdd_DateSold  1460 non-null   int64  \n",
      "dtypes: float64(1), int64(9), object(11)\n",
      "memory usage: 239.7+ KB\n"
     ]
    }
   ],
   "source": [
    "df_new.info()"
   ]
  },
  {
   "cell_type": "code",
   "execution_count": 83,
   "id": "3et2NtEC59D5",
   "metadata": {
    "id": "3et2NtEC59D5"
   },
   "outputs": [],
   "source": [
    "#Скорректируем список числовых данных\n",
    "numerical_features_final = ['LotArea', 'OverallQual', 'OverallCond','TotalBsmtSF', 'GrLivArea',\n",
    "                            'Bath', 'GarageArea', 'SalePrice', 'age', 'age_RemodAdd_DateSold']"
   ]
  },
  {
   "cell_type": "markdown",
   "id": "ea738eb0-620a-485d-b6f1-496ca6d8a84b",
   "metadata": {
    "id": "ea738eb0-620a-485d-b6f1-496ca6d8a84b"
   },
   "source": [
    "3. Посмотрите на индивидуальные графики зависимости целевой функции и отдельной переменной."
   ]
  },
  {
   "cell_type": "code",
   "execution_count": 84,
   "id": "90ef77d4-5389-4d0f-b301-46bd0714c839",
   "metadata": {
    "colab": {
     "base_uri": "https://localhost:8080/",
     "height": 1000
    },
    "executionInfo": {
     "elapsed": 3524,
     "status": "ok",
     "timestamp": 1718472146921,
     "user": {
      "displayName": "Yozhik31",
      "userId": "07739058683274005436"
     },
     "user_tz": -180
    },
    "id": "90ef77d4-5389-4d0f-b301-46bd0714c839",
    "outputId": "8ab1c1cf-8906-4654-920d-56b5e581dfbb"
   },
   "outputs": [
    {
     "data": {
      "image/png": "[encoded data removed]",
      "text/plain": [
       "<Figure size 640x480 with 1 Axes>"
      ]
     },
     "metadata": {},
     "output_type": "display_data"
    },
    {
     "data": {
      "image/png": "[encoded data removed]",
      "text/plain": [
       "<Figure size 640x480 with 1 Axes>"
      ]
     },
     "metadata": {},
     "output_type": "display_data"
    },
    {
     "data": {
      "image/png": "[encoded data removed]",
      "text/plain": [
       "<Figure size 640x480 with 1 Axes>"
      ]
     },
     "metadata": {},
     "output_type": "display_data"
    },
    {
     "data": {
      "image/png": "[encoded data removed]",
      "text/plain": [
       "<Figure size 640x480 with 1 Axes>"
      ]
     },
     "metadata": {},
     "output_type": "display_data"
    },
    {
     "data": {
      "image/png": "[encoded data removed]",
      "text/plain": [
       "<Figure size 640x480 with 1 Axes>"
      ]
     },
     "metadata": {},
     "output_type": "display_data"
    },
    {
     "data": {
      "image/png": "[encoded data removed]",
      "text/plain": [
       "<Figure size 640x480 with 1 Axes>"
      ]
     },
     "metadata": {},
     "output_type": "display_data"
    },
    {
     "data": {
      "image/png": "[encoded data removed]",
      "text/plain": [
       "<Figure size 640x480 with 1 Axes>"
      ]
     },
     "metadata": {},
     "output_type": "display_data"
    },
    {
     "data": {
      "image/png": "[encoded data removed]",
      "text/plain": [
       "<Figure size 640x480 with 1 Axes>"
      ]
     },
     "metadata": {},
     "output_type": "display_data"
    },
    {
     "data": {
      "image/png": "[encoded data removed]",
      "text/plain": [
       "<Figure size 640x480 with 1 Axes>"
      ]
     },
     "metadata": {},
     "output_type": "display_data"
    }
   ],
   "source": [
    "### Ваш код здесь ###\n",
    "# Построение графиков\n",
    "for variable in df_new[numerical_features_final]:\n",
    "    if variable != 'SalePrice':\n",
    "        plt.scatter(df_new[variable], df_new['SalePrice'])\n",
    "        plt.xlabel(variable)\n",
    "        plt.ylabel('SalePrice')\n",
    "        plt.title(f'Зависимость {variable} от SalePrice')\n",
    "        plt.show();\n"
   ]
  },
  {
   "cell_type": "markdown",
   "id": "OZkNC4TM_FD-",
   "metadata": {
    "id": "OZkNC4TM_FD-"
   },
   "source": [
    "Считаю целесообразным для числовых данных  построить диаграммы ядерного распределения плотности, , чтобы проанализировать их распределение.\n"
   ]
  },
  {
   "cell_type": "code",
   "execution_count": 85,
   "id": "_LnHf1p5CWAL",
   "metadata": {
    "colab": {
     "base_uri": "https://localhost:8080/",
     "height": 1000
    },
    "executionInfo": {
     "elapsed": 3254,
     "status": "ok",
     "timestamp": 1718472235997,
     "user": {
      "displayName": "Yozhik31",
      "userId": "07739058683274005436"
     },
     "user_tz": -180
    },
    "id": "_LnHf1p5CWAL",
    "outputId": "cffb1a0b-6da6-4a56-9119-2fb44c98b9d1"
   },
   "outputs": [
    {
     "data": {
      "image/png": "[encoded data removed]",
      "text/plain": [
       "<Figure size 640x480 with 1 Axes>"
      ]
     },
     "metadata": {},
     "output_type": "display_data"
    },
    {
     "data": {
      "image/png": "[encoded data removed]",
      "text/plain": [
       "<Figure size 640x480 with 1 Axes>"
      ]
     },
     "metadata": {},
     "output_type": "display_data"
    },
    {
     "data": {
      "image/png": "[encoded data removed]",
      "text/plain": [
       "<Figure size 640x480 with 1 Axes>"
      ]
     },
     "metadata": {},
     "output_type": "display_data"
    },
    {
     "data": {
      "image/png": "[encoded data removed]",
      "text/plain": [
       "<Figure size 640x480 with 1 Axes>"
      ]
     },
     "metadata": {},
     "output_type": "display_data"
    },
    {
     "data": {
      "image/png": "[encoded data removed]",
      "text/plain": [
       "<Figure size 640x480 with 1 Axes>"
      ]
     },
     "metadata": {},
     "output_type": "display_data"
    },
    {
     "data": {
      "image/png": "[encoded data removed]",
      "text/plain": [
       "<Figure size 640x480 with 1 Axes>"
      ]
     },
     "metadata": {},
     "output_type": "display_data"
    },
    {
     "data": {
      "image/png": "[encoded data removed]",
      "text/plain": [
       "<Figure size 640x480 with 1 Axes>"
      ]
     },
     "metadata": {},
     "output_type": "display_data"
    },
    {
     "data": {
      "image/png": "[encoded data removed]",
      "text/plain": [
       "<Figure size 640x480 with 1 Axes>"
      ]
     },
     "metadata": {},
     "output_type": "display_data"
    },
    {
     "data": {
      "image/png": "[encoded data removed]",
      "text/plain": [
       "<Figure size 640x480 with 1 Axes>"
      ]
     },
     "metadata": {},
     "output_type": "display_data"
    }
   ],
   "source": [
    "# Создаем функцию (ядерная оценка плотности)\n",
    "# Подбираем ширину окна\n",
    "for variable in df_new[numerical_features_final]:\n",
    "    if variable != 'SalePrice':\n",
    "        my_df1 = gaussian_kde(df_new[variable], bw_method=0.1)\n",
    "        x = linspace(min(df_new[variable]), max(df_new[variable]),1000)\n",
    "        plot(x, my_df1(x), 'g')\n",
    "        plt.title(f'Density Plot {variable}')\n",
    "        plt.show();"
   ]
  },
  {
   "cell_type": "markdown",
   "id": "eLN9qyrQ8t2S",
   "metadata": {
    "id": "eLN9qyrQ8t2S"
   },
   "source": [
    "4. Сделайте предварительные выводы."
   ]
  },
  {
   "cell_type": "markdown",
   "id": "qPafaKZGBr2n",
   "metadata": {
    "id": "qPafaKZGBr2n"
   },
   "source": [
    "При исследовании числовых признаков были выявлены и удалены мультиколлинеарные признаки. Анализ числовых признаков показывает их влияние на цену. У числовых признаков наблюдаются длинные хвосты вправо."
   ]
  },
  {
   "cell_type": "markdown",
   "id": "jaAwT5_XPs5B",
   "metadata": {
    "id": "jaAwT5_XPs5B"
   },
   "source": [
    "По аналогии с целевой переменной используем «логарифмическое преобразование». Добовляем 1 в логарифмическую функцию преобразования."
   ]
  },
  {
   "cell_type": "code",
   "execution_count": 86,
   "id": "KH0cQKNKQzHs",
   "metadata": {
    "id": "KH0cQKNKQzHs"
   },
   "outputs": [],
   "source": [
    "for variable in df_new[numerical_features_final]:\n",
    "    if variable != 'SalePrice':\n",
    "        df_new[variable]=np.log1p(df[variable] + 1)"
   ]
  },
  {
   "cell_type": "code",
   "execution_count": 87,
   "id": "77Fc0QnXSfHe",
   "metadata": {
    "colab": {
     "base_uri": "https://localhost:8080/",
     "height": 444
    },
    "executionInfo": {
     "elapsed": 327,
     "status": "ok",
     "timestamp": 1718472404527,
     "user": {
      "displayName": "Yozhik31",
      "userId": "07739058683274005436"
     },
     "user_tz": -180
    },
    "id": "77Fc0QnXSfHe",
    "outputId": "ea718e4e-8507-4c5c-86a2-adb34e854a05"
   },
   "outputs": [
    {
     "data": {
      "text/html": [
       "<div>\n",
       "<style scoped>\n",
       "    .dataframe tbody tr th:only-of-type {\n",
       "        vertical-align: middle;\n",
       "    }\n",
       "\n",
       "    .dataframe tbody tr th {\n",
       "        vertical-align: top;\n",
       "    }\n",
       "\n",
       "    .dataframe thead th {\n",
       "        text-align: right;\n",
       "    }\n",
       "</style>\n",
       "<table border=\"1\" class=\"dataframe\">\n",
       "  <thead>\n",
       "    <tr style=\"text-align: right;\">\n",
       "      <th></th>\n",
       "      <th>LotArea</th>\n",
       "      <th>Street</th>\n",
       "      <th>BldgType</th>\n",
       "      <th>OverallQual</th>\n",
       "      <th>OverallCond</th>\n",
       "      <th>RoofStyle</th>\n",
       "      <th>ExterQual</th>\n",
       "      <th>ExterCond</th>\n",
       "      <th>Foundation</th>\n",
       "      <th>TotalBsmtSF</th>\n",
       "      <th>...</th>\n",
       "      <th>HeatingQC</th>\n",
       "      <th>CentralAir</th>\n",
       "      <th>GrLivArea</th>\n",
       "      <th>Bath</th>\n",
       "      <th>KitchenQual</th>\n",
       "      <th>GarageArea</th>\n",
       "      <th>SaleCondition</th>\n",
       "      <th>SalePrice</th>\n",
       "      <th>age</th>\n",
       "      <th>age_RemodAdd_DateSold</th>\n",
       "    </tr>\n",
       "  </thead>\n",
       "  <tbody>\n",
       "    <tr>\n",
       "      <th>0</th>\n",
       "      <td>9.042158</td>\n",
       "      <td>Pave</td>\n",
       "      <td>1Fam</td>\n",
       "      <td>2.197225</td>\n",
       "      <td>1.945910</td>\n",
       "      <td>Gable</td>\n",
       "      <td>Gd</td>\n",
       "      <td>TA</td>\n",
       "      <td>PConc</td>\n",
       "      <td>6.754604</td>\n",
       "      <td>...</td>\n",
       "      <td>Ex</td>\n",
       "      <td>Y</td>\n",
       "      <td>7.445418</td>\n",
       "      <td>1.609438</td>\n",
       "      <td>Gd</td>\n",
       "      <td>6.309918</td>\n",
       "      <td>Normal</td>\n",
       "      <td>12.247699</td>\n",
       "      <td>1.945910</td>\n",
       "      <td>1.945910</td>\n",
       "    </tr>\n",
       "    <tr>\n",
       "      <th>1</th>\n",
       "      <td>9.169727</td>\n",
       "      <td>Pave</td>\n",
       "      <td>1Fam</td>\n",
       "      <td>2.079442</td>\n",
       "      <td>2.302585</td>\n",
       "      <td>Gable</td>\n",
       "      <td>TA</td>\n",
       "      <td>TA</td>\n",
       "      <td>CBlock</td>\n",
       "      <td>7.142037</td>\n",
       "      <td>...</td>\n",
       "      <td>Ex</td>\n",
       "      <td>Y</td>\n",
       "      <td>7.142037</td>\n",
       "      <td>1.386294</td>\n",
       "      <td>TA</td>\n",
       "      <td>6.135565</td>\n",
       "      <td>Normal</td>\n",
       "      <td>12.109016</td>\n",
       "      <td>3.496508</td>\n",
       "      <td>3.496508</td>\n",
       "    </tr>\n",
       "    <tr>\n",
       "      <th>2</th>\n",
       "      <td>9.328301</td>\n",
       "      <td>Pave</td>\n",
       "      <td>1Fam</td>\n",
       "      <td>2.197225</td>\n",
       "      <td>1.945910</td>\n",
       "      <td>Gable</td>\n",
       "      <td>Gd</td>\n",
       "      <td>TA</td>\n",
       "      <td>PConc</td>\n",
       "      <td>6.826545</td>\n",
       "      <td>...</td>\n",
       "      <td>Ex</td>\n",
       "      <td>Y</td>\n",
       "      <td>7.488853</td>\n",
       "      <td>1.609438</td>\n",
       "      <td>Gd</td>\n",
       "      <td>6.413459</td>\n",
       "      <td>Normal</td>\n",
       "      <td>12.317171</td>\n",
       "      <td>2.197225</td>\n",
       "      <td>2.079442</td>\n",
       "    </tr>\n",
       "    <tr>\n",
       "      <th>3</th>\n",
       "      <td>9.164506</td>\n",
       "      <td>Pave</td>\n",
       "      <td>1Fam</td>\n",
       "      <td>2.197225</td>\n",
       "      <td>1.945910</td>\n",
       "      <td>Gable</td>\n",
       "      <td>TA</td>\n",
       "      <td>TA</td>\n",
       "      <td>BrkTil</td>\n",
       "      <td>6.630683</td>\n",
       "      <td>...</td>\n",
       "      <td>Gd</td>\n",
       "      <td>Y</td>\n",
       "      <td>7.449498</td>\n",
       "      <td>1.098612</td>\n",
       "      <td>Gd</td>\n",
       "      <td>6.467699</td>\n",
       "      <td>Abnorml</td>\n",
       "      <td>11.849405</td>\n",
       "      <td>4.532599</td>\n",
       "      <td>3.637586</td>\n",
       "    </tr>\n",
       "    <tr>\n",
       "      <th>4</th>\n",
       "      <td>9.565354</td>\n",
       "      <td>Pave</td>\n",
       "      <td>1Fam</td>\n",
       "      <td>2.302585</td>\n",
       "      <td>1.945910</td>\n",
       "      <td>Gable</td>\n",
       "      <td>Gd</td>\n",
       "      <td>TA</td>\n",
       "      <td>PConc</td>\n",
       "      <td>7.044905</td>\n",
       "      <td>...</td>\n",
       "      <td>Ex</td>\n",
       "      <td>Y</td>\n",
       "      <td>7.696213</td>\n",
       "      <td>1.609438</td>\n",
       "      <td>Gd</td>\n",
       "      <td>6.731018</td>\n",
       "      <td>Normal</td>\n",
       "      <td>12.429220</td>\n",
       "      <td>2.302585</td>\n",
       "      <td>2.302585</td>\n",
       "    </tr>\n",
       "    <tr>\n",
       "      <th>...</th>\n",
       "      <td>...</td>\n",
       "      <td>...</td>\n",
       "      <td>...</td>\n",
       "      <td>...</td>\n",
       "      <td>...</td>\n",
       "      <td>...</td>\n",
       "      <td>...</td>\n",
       "      <td>...</td>\n",
       "      <td>...</td>\n",
       "      <td>...</td>\n",
       "      <td>...</td>\n",
       "      <td>...</td>\n",
       "      <td>...</td>\n",
       "      <td>...</td>\n",
       "      <td>...</td>\n",
       "      <td>...</td>\n",
       "      <td>...</td>\n",
       "      <td>...</td>\n",
       "      <td>...</td>\n",
       "      <td>...</td>\n",
       "      <td>...</td>\n",
       "    </tr>\n",
       "    <tr>\n",
       "      <th>1455</th>\n",
       "      <td>8.977020</td>\n",
       "      <td>Pave</td>\n",
       "      <td>1Fam</td>\n",
       "      <td>2.079442</td>\n",
       "      <td>1.945910</td>\n",
       "      <td>Gable</td>\n",
       "      <td>TA</td>\n",
       "      <td>TA</td>\n",
       "      <td>PConc</td>\n",
       "      <td>6.861711</td>\n",
       "      <td>...</td>\n",
       "      <td>Ex</td>\n",
       "      <td>Y</td>\n",
       "      <td>7.407924</td>\n",
       "      <td>1.609438</td>\n",
       "      <td>TA</td>\n",
       "      <td>6.135565</td>\n",
       "      <td>Normal</td>\n",
       "      <td>12.072547</td>\n",
       "      <td>2.302585</td>\n",
       "      <td>2.197225</td>\n",
       "    </tr>\n",
       "    <tr>\n",
       "      <th>1456</th>\n",
       "      <td>9.486228</td>\n",
       "      <td>Pave</td>\n",
       "      <td>1Fam</td>\n",
       "      <td>2.079442</td>\n",
       "      <td>2.079442</td>\n",
       "      <td>Gable</td>\n",
       "      <td>TA</td>\n",
       "      <td>TA</td>\n",
       "      <td>CBlock</td>\n",
       "      <td>7.342132</td>\n",
       "      <td>...</td>\n",
       "      <td>TA</td>\n",
       "      <td>Y</td>\n",
       "      <td>7.637716</td>\n",
       "      <td>1.386294</td>\n",
       "      <td>TA</td>\n",
       "      <td>6.218600</td>\n",
       "      <td>Normal</td>\n",
       "      <td>12.254868</td>\n",
       "      <td>3.526361</td>\n",
       "      <td>3.178054</td>\n",
       "    </tr>\n",
       "    <tr>\n",
       "      <th>1457</th>\n",
       "      <td>9.109857</td>\n",
       "      <td>Pave</td>\n",
       "      <td>1Fam</td>\n",
       "      <td>2.197225</td>\n",
       "      <td>2.397895</td>\n",
       "      <td>Gable</td>\n",
       "      <td>Ex</td>\n",
       "      <td>Gd</td>\n",
       "      <td>Stone</td>\n",
       "      <td>7.050989</td>\n",
       "      <td>...</td>\n",
       "      <td>Ex</td>\n",
       "      <td>Y</td>\n",
       "      <td>7.758761</td>\n",
       "      <td>1.386294</td>\n",
       "      <td>Gd</td>\n",
       "      <td>5.537334</td>\n",
       "      <td>Normal</td>\n",
       "      <td>12.493133</td>\n",
       "      <td>4.262680</td>\n",
       "      <td>1.791759</td>\n",
       "    </tr>\n",
       "    <tr>\n",
       "      <th>1458</th>\n",
       "      <td>9.181838</td>\n",
       "      <td>Pave</td>\n",
       "      <td>1Fam</td>\n",
       "      <td>1.945910</td>\n",
       "      <td>2.079442</td>\n",
       "      <td>Hip</td>\n",
       "      <td>TA</td>\n",
       "      <td>TA</td>\n",
       "      <td>CBlock</td>\n",
       "      <td>6.984716</td>\n",
       "      <td>...</td>\n",
       "      <td>Gd</td>\n",
       "      <td>Y</td>\n",
       "      <td>6.984716</td>\n",
       "      <td>1.098612</td>\n",
       "      <td>Gd</td>\n",
       "      <td>5.488938</td>\n",
       "      <td>Normal</td>\n",
       "      <td>11.864469</td>\n",
       "      <td>4.127134</td>\n",
       "      <td>2.772589</td>\n",
       "    </tr>\n",
       "    <tr>\n",
       "      <th>1459</th>\n",
       "      <td>9.204222</td>\n",
       "      <td>Pave</td>\n",
       "      <td>1Fam</td>\n",
       "      <td>1.945910</td>\n",
       "      <td>2.079442</td>\n",
       "      <td>Gable</td>\n",
       "      <td>Gd</td>\n",
       "      <td>TA</td>\n",
       "      <td>CBlock</td>\n",
       "      <td>7.137278</td>\n",
       "      <td>...</td>\n",
       "      <td>Gd</td>\n",
       "      <td>Y</td>\n",
       "      <td>7.137278</td>\n",
       "      <td>1.386294</td>\n",
       "      <td>TA</td>\n",
       "      <td>5.627621</td>\n",
       "      <td>Normal</td>\n",
       "      <td>11.901590</td>\n",
       "      <td>3.806662</td>\n",
       "      <td>3.806662</td>\n",
       "    </tr>\n",
       "  </tbody>\n",
       "</table>\n",
       "<p>1460 rows × 21 columns</p>\n",
       "</div>"
      ],
      "text/plain": [
       "       LotArea Street BldgType  OverallQual  OverallCond RoofStyle ExterQual  \\\n",
       "0     9.042158   Pave     1Fam     2.197225     1.945910     Gable        Gd   \n",
       "1     9.169727   Pave     1Fam     2.079442     2.302585     Gable        TA   \n",
       "2     9.328301   Pave     1Fam     2.197225     1.945910     Gable        Gd   \n",
       "3     9.164506   Pave     1Fam     2.197225     1.945910     Gable        TA   \n",
       "4     9.565354   Pave     1Fam     2.302585     1.945910     Gable        Gd   \n",
       "...        ...    ...      ...          ...          ...       ...       ...   \n",
       "1455  8.977020   Pave     1Fam     2.079442     1.945910     Gable        TA   \n",
       "1456  9.486228   Pave     1Fam     2.079442     2.079442     Gable        TA   \n",
       "1457  9.109857   Pave     1Fam     2.197225     2.397895     Gable        Ex   \n",
       "1458  9.181838   Pave     1Fam     1.945910     2.079442       Hip        TA   \n",
       "1459  9.204222   Pave     1Fam     1.945910     2.079442     Gable        Gd   \n",
       "\n",
       "     ExterCond Foundation  TotalBsmtSF  ... HeatingQC CentralAir GrLivArea  \\\n",
       "0           TA      PConc     6.754604  ...        Ex          Y  7.445418   \n",
       "1           TA     CBlock     7.142037  ...        Ex          Y  7.142037   \n",
       "2           TA      PConc     6.826545  ...        Ex          Y  7.488853   \n",
       "3           TA     BrkTil     6.630683  ...        Gd          Y  7.449498   \n",
       "4           TA      PConc     7.044905  ...        Ex          Y  7.696213   \n",
       "...        ...        ...          ...  ...       ...        ...       ...   \n",
       "1455        TA      PConc     6.861711  ...        Ex          Y  7.407924   \n",
       "1456        TA     CBlock     7.342132  ...        TA          Y  7.637716   \n",
       "1457        Gd      Stone     7.050989  ...        Ex          Y  7.758761   \n",
       "1458        TA     CBlock     6.984716  ...        Gd          Y  6.984716   \n",
       "1459        TA     CBlock     7.137278  ...        Gd          Y  7.137278   \n",
       "\n",
       "          Bath  KitchenQual GarageArea  SaleCondition  SalePrice       age  \\\n",
       "0     1.609438           Gd   6.309918         Normal  12.247699  1.945910   \n",
       "1     1.386294           TA   6.135565         Normal  12.109016  3.496508   \n",
       "2     1.609438           Gd   6.413459         Normal  12.317171  2.197225   \n",
       "3     1.098612           Gd   6.467699        Abnorml  11.849405  4.532599   \n",
       "4     1.609438           Gd   6.731018         Normal  12.429220  2.302585   \n",
       "...        ...          ...        ...            ...        ...       ...   \n",
       "1455  1.609438           TA   6.135565         Normal  12.072547  2.302585   \n",
       "1456  1.386294           TA   6.218600         Normal  12.254868  3.526361   \n",
       "1457  1.386294           Gd   5.537334         Normal  12.493133  4.262680   \n",
       "1458  1.098612           Gd   5.488938         Normal  11.864469  4.127134   \n",
       "1459  1.386294           TA   5.627621         Normal  11.901590  3.806662   \n",
       "\n",
       "      age_RemodAdd_DateSold  \n",
       "0                  1.945910  \n",
       "1                  3.496508  \n",
       "2                  2.079442  \n",
       "3                  3.637586  \n",
       "4                  2.302585  \n",
       "...                     ...  \n",
       "1455               2.197225  \n",
       "1456               3.178054  \n",
       "1457               1.791759  \n",
       "1458               2.772589  \n",
       "1459               3.806662  \n",
       "\n",
       "[1460 rows x 21 columns]"
      ]
     },
     "execution_count": 87,
     "metadata": {},
     "output_type": "execute_result"
    }
   ],
   "source": [
    "df_new"
   ]
  },
  {
   "cell_type": "markdown",
   "id": "sFP7kdm4S1Qz",
   "metadata": {
    "id": "sFP7kdm4S1Qz"
   },
   "source": [
    "Преобразование котегориальныых переменных"
   ]
  },
  {
   "cell_type": "markdown",
   "id": "rJDIhx828UKq",
   "metadata": {
    "id": "rJDIhx828UKq"
   },
   "source": [
    "Для преобразования котегориальных данных используем LabelEncoder"
   ]
  },
  {
   "cell_type": "code",
   "execution_count": 88,
   "id": "50XFhtu6TOTc",
   "metadata": {
    "id": "50XFhtu6TOTc"
   },
   "outputs": [],
   "source": [
    "from sklearn.preprocessing import LabelEncoder  # Import LabelEncoder\n",
    "\n",
    "\n",
    "for col in df_new.columns:\n",
    "    if(df_new[col].dtype == 'object'):\n",
    "        le = LabelEncoder()\n",
    "        df_new[col] = le.fit_transform(df_new[col])\n",
    "        \n"
   ]
  },
  {
   "cell_type": "code",
   "execution_count": 89,
   "id": "j5KsiK3SmKIu",
   "metadata": {
    "colab": {
     "base_uri": "https://localhost:8080/",
     "height": 444
    },
    "executionInfo": {
     "elapsed": 415,
     "status": "ok",
     "timestamp": 1718472733174,
     "user": {
      "displayName": "Yozhik31",
      "userId": "07739058683274005436"
     },
     "user_tz": -180
    },
    "id": "j5KsiK3SmKIu",
    "outputId": "7affa56f-daa5-4935-e7b2-f1b4df3590f2"
   },
   "outputs": [
    {
     "data": {
      "text/html": [
       "<div>\n",
       "<style scoped>\n",
       "    .dataframe tbody tr th:only-of-type {\n",
       "        vertical-align: middle;\n",
       "    }\n",
       "\n",
       "    .dataframe tbody tr th {\n",
       "        vertical-align: top;\n",
       "    }\n",
       "\n",
       "    .dataframe thead th {\n",
       "        text-align: right;\n",
       "    }\n",
       "</style>\n",
       "<table border=\"1\" class=\"dataframe\">\n",
       "  <thead>\n",
       "    <tr style=\"text-align: right;\">\n",
       "      <th></th>\n",
       "      <th>LotArea</th>\n",
       "      <th>Street</th>\n",
       "      <th>BldgType</th>\n",
       "      <th>OverallQual</th>\n",
       "      <th>OverallCond</th>\n",
       "      <th>RoofStyle</th>\n",
       "      <th>ExterQual</th>\n",
       "      <th>ExterCond</th>\n",
       "      <th>Foundation</th>\n",
       "      <th>TotalBsmtSF</th>\n",
       "      <th>...</th>\n",
       "      <th>HeatingQC</th>\n",
       "      <th>CentralAir</th>\n",
       "      <th>GrLivArea</th>\n",
       "      <th>Bath</th>\n",
       "      <th>KitchenQual</th>\n",
       "      <th>GarageArea</th>\n",
       "      <th>SaleCondition</th>\n",
       "      <th>SalePrice</th>\n",
       "      <th>age</th>\n",
       "      <th>age_RemodAdd_DateSold</th>\n",
       "    </tr>\n",
       "  </thead>\n",
       "  <tbody>\n",
       "    <tr>\n",
       "      <th>0</th>\n",
       "      <td>9.042158</td>\n",
       "      <td>1</td>\n",
       "      <td>0</td>\n",
       "      <td>2.197225</td>\n",
       "      <td>1.945910</td>\n",
       "      <td>1</td>\n",
       "      <td>2</td>\n",
       "      <td>4</td>\n",
       "      <td>2</td>\n",
       "      <td>6.754604</td>\n",
       "      <td>...</td>\n",
       "      <td>0</td>\n",
       "      <td>1</td>\n",
       "      <td>7.445418</td>\n",
       "      <td>1.609438</td>\n",
       "      <td>2</td>\n",
       "      <td>6.309918</td>\n",
       "      <td>4</td>\n",
       "      <td>12.247699</td>\n",
       "      <td>1.945910</td>\n",
       "      <td>1.945910</td>\n",
       "    </tr>\n",
       "    <tr>\n",
       "      <th>1</th>\n",
       "      <td>9.169727</td>\n",
       "      <td>1</td>\n",
       "      <td>0</td>\n",
       "      <td>2.079442</td>\n",
       "      <td>2.302585</td>\n",
       "      <td>1</td>\n",
       "      <td>3</td>\n",
       "      <td>4</td>\n",
       "      <td>1</td>\n",
       "      <td>7.142037</td>\n",
       "      <td>...</td>\n",
       "      <td>0</td>\n",
       "      <td>1</td>\n",
       "      <td>7.142037</td>\n",
       "      <td>1.386294</td>\n",
       "      <td>3</td>\n",
       "      <td>6.135565</td>\n",
       "      <td>4</td>\n",
       "      <td>12.109016</td>\n",
       "      <td>3.496508</td>\n",
       "      <td>3.496508</td>\n",
       "    </tr>\n",
       "    <tr>\n",
       "      <th>2</th>\n",
       "      <td>9.328301</td>\n",
       "      <td>1</td>\n",
       "      <td>0</td>\n",
       "      <td>2.197225</td>\n",
       "      <td>1.945910</td>\n",
       "      <td>1</td>\n",
       "      <td>2</td>\n",
       "      <td>4</td>\n",
       "      <td>2</td>\n",
       "      <td>6.826545</td>\n",
       "      <td>...</td>\n",
       "      <td>0</td>\n",
       "      <td>1</td>\n",
       "      <td>7.488853</td>\n",
       "      <td>1.609438</td>\n",
       "      <td>2</td>\n",
       "      <td>6.413459</td>\n",
       "      <td>4</td>\n",
       "      <td>12.317171</td>\n",
       "      <td>2.197225</td>\n",
       "      <td>2.079442</td>\n",
       "    </tr>\n",
       "    <tr>\n",
       "      <th>3</th>\n",
       "      <td>9.164506</td>\n",
       "      <td>1</td>\n",
       "      <td>0</td>\n",
       "      <td>2.197225</td>\n",
       "      <td>1.945910</td>\n",
       "      <td>1</td>\n",
       "      <td>3</td>\n",
       "      <td>4</td>\n",
       "      <td>0</td>\n",
       "      <td>6.630683</td>\n",
       "      <td>...</td>\n",
       "      <td>2</td>\n",
       "      <td>1</td>\n",
       "      <td>7.449498</td>\n",
       "      <td>1.098612</td>\n",
       "      <td>2</td>\n",
       "      <td>6.467699</td>\n",
       "      <td>0</td>\n",
       "      <td>11.849405</td>\n",
       "      <td>4.532599</td>\n",
       "      <td>3.637586</td>\n",
       "    </tr>\n",
       "    <tr>\n",
       "      <th>4</th>\n",
       "      <td>9.565354</td>\n",
       "      <td>1</td>\n",
       "      <td>0</td>\n",
       "      <td>2.302585</td>\n",
       "      <td>1.945910</td>\n",
       "      <td>1</td>\n",
       "      <td>2</td>\n",
       "      <td>4</td>\n",
       "      <td>2</td>\n",
       "      <td>7.044905</td>\n",
       "      <td>...</td>\n",
       "      <td>0</td>\n",
       "      <td>1</td>\n",
       "      <td>7.696213</td>\n",
       "      <td>1.609438</td>\n",
       "      <td>2</td>\n",
       "      <td>6.731018</td>\n",
       "      <td>4</td>\n",
       "      <td>12.429220</td>\n",
       "      <td>2.302585</td>\n",
       "      <td>2.302585</td>\n",
       "    </tr>\n",
       "    <tr>\n",
       "      <th>...</th>\n",
       "      <td>...</td>\n",
       "      <td>...</td>\n",
       "      <td>...</td>\n",
       "      <td>...</td>\n",
       "      <td>...</td>\n",
       "      <td>...</td>\n",
       "      <td>...</td>\n",
       "      <td>...</td>\n",
       "      <td>...</td>\n",
       "      <td>...</td>\n",
       "      <td>...</td>\n",
       "      <td>...</td>\n",
       "      <td>...</td>\n",
       "      <td>...</td>\n",
       "      <td>...</td>\n",
       "      <td>...</td>\n",
       "      <td>...</td>\n",
       "      <td>...</td>\n",
       "      <td>...</td>\n",
       "      <td>...</td>\n",
       "      <td>...</td>\n",
       "    </tr>\n",
       "    <tr>\n",
       "      <th>1455</th>\n",
       "      <td>8.977020</td>\n",
       "      <td>1</td>\n",
       "      <td>0</td>\n",
       "      <td>2.079442</td>\n",
       "      <td>1.945910</td>\n",
       "      <td>1</td>\n",
       "      <td>3</td>\n",
       "      <td>4</td>\n",
       "      <td>2</td>\n",
       "      <td>6.861711</td>\n",
       "      <td>...</td>\n",
       "      <td>0</td>\n",
       "      <td>1</td>\n",
       "      <td>7.407924</td>\n",
       "      <td>1.609438</td>\n",
       "      <td>3</td>\n",
       "      <td>6.135565</td>\n",
       "      <td>4</td>\n",
       "      <td>12.072547</td>\n",
       "      <td>2.302585</td>\n",
       "      <td>2.197225</td>\n",
       "    </tr>\n",
       "    <tr>\n",
       "      <th>1456</th>\n",
       "      <td>9.486228</td>\n",
       "      <td>1</td>\n",
       "      <td>0</td>\n",
       "      <td>2.079442</td>\n",
       "      <td>2.079442</td>\n",
       "      <td>1</td>\n",
       "      <td>3</td>\n",
       "      <td>4</td>\n",
       "      <td>1</td>\n",
       "      <td>7.342132</td>\n",
       "      <td>...</td>\n",
       "      <td>4</td>\n",
       "      <td>1</td>\n",
       "      <td>7.637716</td>\n",
       "      <td>1.386294</td>\n",
       "      <td>3</td>\n",
       "      <td>6.218600</td>\n",
       "      <td>4</td>\n",
       "      <td>12.254868</td>\n",
       "      <td>3.526361</td>\n",
       "      <td>3.178054</td>\n",
       "    </tr>\n",
       "    <tr>\n",
       "      <th>1457</th>\n",
       "      <td>9.109857</td>\n",
       "      <td>1</td>\n",
       "      <td>0</td>\n",
       "      <td>2.197225</td>\n",
       "      <td>2.397895</td>\n",
       "      <td>1</td>\n",
       "      <td>0</td>\n",
       "      <td>2</td>\n",
       "      <td>4</td>\n",
       "      <td>7.050989</td>\n",
       "      <td>...</td>\n",
       "      <td>0</td>\n",
       "      <td>1</td>\n",
       "      <td>7.758761</td>\n",
       "      <td>1.386294</td>\n",
       "      <td>2</td>\n",
       "      <td>5.537334</td>\n",
       "      <td>4</td>\n",
       "      <td>12.493133</td>\n",
       "      <td>4.262680</td>\n",
       "      <td>1.791759</td>\n",
       "    </tr>\n",
       "    <tr>\n",
       "      <th>1458</th>\n",
       "      <td>9.181838</td>\n",
       "      <td>1</td>\n",
       "      <td>0</td>\n",
       "      <td>1.945910</td>\n",
       "      <td>2.079442</td>\n",
       "      <td>3</td>\n",
       "      <td>3</td>\n",
       "      <td>4</td>\n",
       "      <td>1</td>\n",
       "      <td>6.984716</td>\n",
       "      <td>...</td>\n",
       "      <td>2</td>\n",
       "      <td>1</td>\n",
       "      <td>6.984716</td>\n",
       "      <td>1.098612</td>\n",
       "      <td>2</td>\n",
       "      <td>5.488938</td>\n",
       "      <td>4</td>\n",
       "      <td>11.864469</td>\n",
       "      <td>4.127134</td>\n",
       "      <td>2.772589</td>\n",
       "    </tr>\n",
       "    <tr>\n",
       "      <th>1459</th>\n",
       "      <td>9.204222</td>\n",
       "      <td>1</td>\n",
       "      <td>0</td>\n",
       "      <td>1.945910</td>\n",
       "      <td>2.079442</td>\n",
       "      <td>1</td>\n",
       "      <td>2</td>\n",
       "      <td>4</td>\n",
       "      <td>1</td>\n",
       "      <td>7.137278</td>\n",
       "      <td>...</td>\n",
       "      <td>2</td>\n",
       "      <td>1</td>\n",
       "      <td>7.137278</td>\n",
       "      <td>1.386294</td>\n",
       "      <td>3</td>\n",
       "      <td>5.627621</td>\n",
       "      <td>4</td>\n",
       "      <td>11.901590</td>\n",
       "      <td>3.806662</td>\n",
       "      <td>3.806662</td>\n",
       "    </tr>\n",
       "  </tbody>\n",
       "</table>\n",
       "<p>1460 rows × 21 columns</p>\n",
       "</div>"
      ],
      "text/plain": [
       "       LotArea  Street  BldgType  OverallQual  OverallCond  RoofStyle  \\\n",
       "0     9.042158       1         0     2.197225     1.945910          1   \n",
       "1     9.169727       1         0     2.079442     2.302585          1   \n",
       "2     9.328301       1         0     2.197225     1.945910          1   \n",
       "3     9.164506       1         0     2.197225     1.945910          1   \n",
       "4     9.565354       1         0     2.302585     1.945910          1   \n",
       "...        ...     ...       ...          ...          ...        ...   \n",
       "1455  8.977020       1         0     2.079442     1.945910          1   \n",
       "1456  9.486228       1         0     2.079442     2.079442          1   \n",
       "1457  9.109857       1         0     2.197225     2.397895          1   \n",
       "1458  9.181838       1         0     1.945910     2.079442          3   \n",
       "1459  9.204222       1         0     1.945910     2.079442          1   \n",
       "\n",
       "      ExterQual  ExterCond  Foundation  TotalBsmtSF  ...  HeatingQC  \\\n",
       "0             2          4           2     6.754604  ...          0   \n",
       "1             3          4           1     7.142037  ...          0   \n",
       "2             2          4           2     6.826545  ...          0   \n",
       "3             3          4           0     6.630683  ...          2   \n",
       "4             2          4           2     7.044905  ...          0   \n",
       "...         ...        ...         ...          ...  ...        ...   \n",
       "1455          3          4           2     6.861711  ...          0   \n",
       "1456          3          4           1     7.342132  ...          4   \n",
       "1457          0          2           4     7.050989  ...          0   \n",
       "1458          3          4           1     6.984716  ...          2   \n",
       "1459          2          4           1     7.137278  ...          2   \n",
       "\n",
       "      CentralAir  GrLivArea      Bath  KitchenQual  GarageArea  SaleCondition  \\\n",
       "0              1   7.445418  1.609438            2    6.309918              4   \n",
       "1              1   7.142037  1.386294            3    6.135565              4   \n",
       "2              1   7.488853  1.609438            2    6.413459              4   \n",
       "3              1   7.449498  1.098612            2    6.467699              0   \n",
       "4              1   7.696213  1.609438            2    6.731018              4   \n",
       "...          ...        ...       ...          ...         ...            ...   \n",
       "1455           1   7.407924  1.609438            3    6.135565              4   \n",
       "1456           1   7.637716  1.386294            3    6.218600              4   \n",
       "1457           1   7.758761  1.386294            2    5.537334              4   \n",
       "1458           1   6.984716  1.098612            2    5.488938              4   \n",
       "1459           1   7.137278  1.386294            3    5.627621              4   \n",
       "\n",
       "      SalePrice       age  age_RemodAdd_DateSold  \n",
       "0     12.247699  1.945910               1.945910  \n",
       "1     12.109016  3.496508               3.496508  \n",
       "2     12.317171  2.197225               2.079442  \n",
       "3     11.849405  4.532599               3.637586  \n",
       "4     12.429220  2.302585               2.302585  \n",
       "...         ...       ...                    ...  \n",
       "1455  12.072547  2.302585               2.197225  \n",
       "1456  12.254868  3.526361               3.178054  \n",
       "1457  12.493133  4.262680               1.791759  \n",
       "1458  11.864469  4.127134               2.772589  \n",
       "1459  11.901590  3.806662               3.806662  \n",
       "\n",
       "[1460 rows x 21 columns]"
      ]
     },
     "execution_count": 89,
     "metadata": {},
     "output_type": "execute_result"
    }
   ],
   "source": [
    "df_new"
   ]
  },
  {
   "cell_type": "code",
   "execution_count": 90,
   "id": "RwX23R3OmUsQ",
   "metadata": {
    "id": "RwX23R3OmUsQ"
   },
   "outputs": [],
   "source": [
    "# Сохранение файла данных для последующего моделирования\n",
    "df_new.to_csv('df_new.csv', index = False)"
   ]
  },
  {
   "cell_type": "markdown",
   "id": "dd39b555-b7ac-4fdc-b5c7-a47d6212973e",
   "metadata": {
    "id": "dd39b555-b7ac-4fdc-b5c7-a47d6212973e"
   },
   "source": [
    "5. Создайте дополнительные переменные из уже имеющихся, обоснуйте свои решения."
   ]
  },
  {
   "cell_type": "markdown",
   "id": "8FvPGyhdsfJK",
   "metadata": {
    "id": "8FvPGyhdsfJK"
   },
   "source": [
    "Дополнительные переменные age(возраст дома) и age_RemodAdd_DateSold (сколько лет прошло от реконструкции дома до продажи) были созданы в начале 3 задания. Был проведен анализ зависимости целевой переменной SalePrice (Цена продажи) от новых переменных. Прослеживается линейная зависимость."
   ]
  },
  {
   "cell_type": "markdown",
   "id": "ec70509d-367d-4ed9-8d47-e2df22a18200",
   "metadata": {
    "id": "ec70509d-367d-4ed9-8d47-e2df22a18200",
    "tags": []
   },
   "source": [
    "## Задание 4\n",
    "\n",
    "Подготовьте данные:\n",
    "\n",
    "1. Разделите данные на тренировочную и тестовую выборки."
   ]
  },
  {
   "cell_type": "code",
   "execution_count": 91,
   "id": "6d910f74-d622-479b-9e20-70f3c4a0034c",
   "metadata": {
    "id": "6d910f74-d622-479b-9e20-70f3c4a0034c"
   },
   "outputs": [],
   "source": [
    "### Ваш код здесь ###\n",
    "from sklearn.model_selection import train_test_split\n",
    "\n",
    "\n",
    "#Загрузим файл с преобразованными данными\n",
    "df_prepared = pd.read_csv('df_new.csv')"
   ]
  },
  {
   "cell_type": "code",
   "execution_count": 92,
   "id": "8MIHmqOhHmAN",
   "metadata": {
    "id": "8MIHmqOhHmAN"
   },
   "outputs": [],
   "source": [
    "# Разделение данных на признаки (X) и целевую переменную (y)\n",
    "X = df_prepared.drop('SalePrice', axis=1)\n",
    "y = df_prepared['SalePrice']\n",
    "\n",
    "# Разделение данных на тренировочную и тестовую выборки\n",
    "X_train, X_test, y_train, y_test = train_test_split(X, y, test_size=0.3, random_state=42)"
   ]
  },
  {
   "cell_type": "markdown",
   "id": "94d02fe4-e8c8-4811-a735-1c4c5584beeb",
   "metadata": {
    "id": "94d02fe4-e8c8-4811-a735-1c4c5584beeb"
   },
   "source": [
    "2. Закодируйте категориальные признаки в тренировочной и тестовой выборках."
   ]
  },
  {
   "cell_type": "code",
   "execution_count": 93,
   "id": "5cb42508-2d98-4a40-bed3-039f9f8d7c24",
   "metadata": {
    "id": "5cb42508-2d98-4a40-bed3-039f9f8d7c24"
   },
   "outputs": [],
   "source": [
    "### Ваш код здесь ###\n",
    "##Закодировал в задании 3"
   ]
  },
  {
   "cell_type": "markdown",
   "id": "4670a626-7720-4805-8fbc-5b7b851b765e",
   "metadata": {
    "id": "4670a626-7720-4805-8fbc-5b7b851b765e"
   },
   "source": [
    "3. Подготовьте числовые признаки в тренировочной и тестовой выборках к передаче в модель: приведите их к единому масштабу."
   ]
  },
  {
   "cell_type": "code",
   "execution_count": 94,
   "id": "cbde2aef-6811-49ad-8048-ca0582052b0e",
   "metadata": {
    "id": "cbde2aef-6811-49ad-8048-ca0582052b0e"
   },
   "outputs": [],
   "source": [
    "### Ваш код здесь ###\n",
    "##Числовые признаки подготовила и привела к единому масштабу (логарифмическое преобразование) в задании 3"
   ]
  },
  {
   "cell_type": "markdown",
   "id": "3e92d5ed-91c3-495e-a1c0-791a49917f9e",
   "metadata": {
    "id": "3e92d5ed-91c3-495e-a1c0-791a49917f9e",
    "tags": []
   },
   "source": [
    "## Задание 5\n",
    "\n",
    "Займитесь обучением модели:\n",
    "\n",
    "1. Обучите модель линейной регрессии без регуляризации. Посмотрите на веса полученной модели. Сделайте предсказания по обучающей и тестовой выборкам."
   ]
  },
  {
   "cell_type": "code",
   "execution_count": 95,
   "id": "351a0ffa-02af-4680-9c38-375fb5fcd63c",
   "metadata": {
    "colab": {
     "base_uri": "https://localhost:8080/"
    },
    "executionInfo": {
     "elapsed": 337,
     "status": "ok",
     "timestamp": 1718536112318,
     "user": {
      "displayName": "Yozhik31",
      "userId": "07739058683274005436"
     },
     "user_tz": -180
    },
    "id": "351a0ffa-02af-4680-9c38-375fb5fcd63c",
    "outputId": "4eced417-df93-44b1-a5e1-4eb7a28442b6",
    "scrolled": true,
    "tags": []
   },
   "outputs": [
    {
     "name": "stdout",
     "output_type": "stream",
     "text": [
      "Weights of the model:\n",
      "LotArea: 0.14683864258280938\n",
      "Street: -0.01383721558892613\n",
      "BldgType: 0.007013375796950397\n",
      "OverallQual: 0.5817387099624675\n",
      "OverallCond: 0.27757295865589776\n",
      "RoofStyle: 0.013052875606951935\n",
      "ExterQual: -0.0315971105989217\n",
      "ExterCond: 0.012274555800917355\n",
      "Foundation: 0.027941091268959804\n",
      "TotalBsmtSF: 0.029561693904377715\n",
      "Heating: 0.002808906893090976\n",
      "HeatingQC: -0.004458426618108059\n",
      "CentralAir: 0.14111061677669476\n",
      "GrLivArea: 0.3449451861487649\n",
      "Bath: 0.06548504579352415\n",
      "KitchenQual: -0.041954621076964155\n",
      "GarageArea: 0.030274027083065657\n",
      "SaleCondition: 0.01314346569189034\n",
      "age: -0.05775482945208788\n",
      "age_RemodAdd_DateSold: 0.00240769009858366\n",
      "Train MSE: 0.02333299999086619\n",
      "Test MSE: 0.022817910897854902\n",
      "Train R2: 0.8494680531518901\n",
      "Test R2: 0.8654952799071516\n"
     ]
    }
   ],
   "source": [
    "### Ваш код здесь ###\n",
    "# Создание и обучение модели\n",
    "model = LinearRegression()\n",
    "model.fit(X_train, y_train)\n",
    "\n",
    "# Вывод весов модели\n",
    "print(\"Weights of the model:\")\n",
    "for feature, weight in zip(X.columns, model.coef_):\n",
    "    print(f\"{feature}: {weight}\")\n",
    "\n",
    "# Предсказание на тренировочной и тестовой выборках\n",
    "y_predict_train = model.predict(X_train)\n",
    "y_predict_test = model.predict(X_test)\n",
    "\n",
    "# Вычисление среднеквадратичной ошибки\n",
    "train_mse = mean_squared_error(y_train, y_predict_train)\n",
    "test_mse = mean_squared_error(y_test, y_predict_test)\n",
    "\n",
    "# Вывод среднеквадратичной ошибки\n",
    "print(\"Train MSE: {}\".format(train_mse))\n",
    "print(\"Test MSE: {}\".format(test_mse))\n",
    "\n",
    "#Вычисление  коэффициента детерминации\n",
    "train_r2 = r2_score(y_train, y_predict_train)\n",
    "test_r2 = r2_score(y_test, y_predict_test)\n",
    "\n",
    "# Вывод коэффициента детерминации\n",
    "print(\"Train R2: {}\".format(train_r2))\n",
    "print(\"Test R2: {}\".format(test_r2))"
   ]
  },
  {
   "cell_type": "code",
   "execution_count": 97,
   "id": "54tmsS7ptDAY",
   "metadata": {
    "colab": {
     "base_uri": "https://localhost:8080/"
    },
    "executionInfo": {
     "elapsed": 331,
     "status": "ok",
     "timestamp": 1718536117458,
     "user": {
      "displayName": "Yozhik31",
      "userId": "07739058683274005436"
     },
     "user_tz": -180
    },
    "id": "54tmsS7ptDAY",
    "outputId": "01582d36-a4fb-4cd1-f8d9-184f3b9917a1"
   },
   "outputs": [
    {
     "name": "stdout",
     "output_type": "stream",
     "text": [
      "Weights in descending order:\n",
      "0.5817387099624675\n",
      "0.3449451861487649\n",
      "0.27757295865589776\n",
      "0.14683864258280938\n",
      "0.14111061677669476\n",
      "0.06548504579352415\n",
      "0.030274027083065657\n",
      "0.029561693904377715\n",
      "0.027941091268959804\n",
      "0.01314346569189034\n",
      "0.013052875606951935\n",
      "0.012274555800917355\n",
      "0.007013375796950397\n",
      "0.002808906893090976\n",
      "0.00240769009858366\n",
      "-0.004458426618108059\n",
      "-0.01383721558892613\n",
      "-0.0315971105989217\n",
      "-0.041954621076964155\n",
      "-0.05775482945208788\n"
     ]
    }
   ],
   "source": [
    "# Получите веса модели\n",
    "weights = model.coef_\n",
    "\n",
    "# Отсортируйте веса в порядке убывания\n",
    "sorted_weights = sorted(weights, reverse=True)\n",
    "\n",
    "# Выведите веса в порядке убывания\n",
    "print(\"Weights in descending order:\")\n",
    "for weight in sorted_weights:\n",
    "    print(weight)"
   ]
  },
  {
   "cell_type": "code",
   "execution_count": 98,
   "id": "a4jiaex5uZpR",
   "metadata": {
    "colab": {
     "base_uri": "https://localhost:8080/"
    },
    "executionInfo": {
     "elapsed": 322,
     "status": "ok",
     "timestamp": 1718536120534,
     "user": {
      "displayName": "Yozhik31",
      "userId": "07739058683274005436"
     },
     "user_tz": -180
    },
    "id": "a4jiaex5uZpR",
    "outputId": "5cb203f0-d660-4288-eeab-3c369cd0cd36"
   },
   "outputs": [
    {
     "name": "stdout",
     "output_type": "stream",
     "text": [
      "                  Feature   Weight\n",
      "0             OverallQual  0.58174\n",
      "1               GrLivArea  0.34495\n",
      "2             OverallCond  0.27757\n",
      "3                 LotArea  0.14684\n",
      "4              CentralAir  0.14111\n",
      "5                    Bath  0.06549\n",
      "6              GarageArea  0.03027\n",
      "7             TotalBsmtSF  0.02956\n",
      "8              Foundation  0.02794\n",
      "9           SaleCondition  0.01314\n",
      "10              RoofStyle  0.01305\n",
      "11              ExterCond  0.01227\n",
      "12               BldgType  0.00701\n",
      "13                Heating  0.00281\n",
      "14  age_RemodAdd_DateSold  0.00241\n",
      "15              HeatingQC -0.00446\n",
      "16                 Street -0.01384\n",
      "17              ExterQual -0.03160\n",
      "18            KitchenQual -0.04195\n",
      "19                    age -0.05775\n"
     ]
    }
   ],
   "source": [
    "\n",
    "# Создайте список пар (название признака, вес)\n",
    "feature_weights = list(zip(X.columns, weights))\n",
    "\n",
    "# Отсортируйте список пар по весам в порядке убывания\n",
    "sorted_feature_weights = sorted(feature_weights, key=lambda x: x[1], reverse=True)\n",
    "\n",
    "# Создайте отдельный датафрейм с названиями признаков и их весами\n",
    "weights_df = pd.DataFrame(sorted_feature_weights, columns=['Feature', 'Weight'])\n",
    "\n",
    "# Округлите веса до 5 цифр после запятой\n",
    "weights_df['Weight'] = weights_df['Weight'].round(5)\n",
    "\n",
    "# Выведите датафрейм с названиями признаков и их весами\n",
    "print(weights_df)"
   ]
  },
  {
   "cell_type": "markdown",
   "id": "106d8157-9c34-48bc-b98b-200947c11fda",
   "metadata": {
    "id": "106d8157-9c34-48bc-b98b-200947c11fda"
   },
   "source": [
    "2. Понаблюдайте, как ведёт себя модель с L1-регуляризацией (Lasso). Найдите лучший параметр регуляризации. Сделайте предсказания по обучающей и тестовой выборкам, замерьте качество с помощью MAE, MSE, $R^2$. Для воспроизводимости результатов задайте параметр `random_state=42` при определении модели Lasso."
   ]
  },
  {
   "cell_type": "code",
   "execution_count": 99,
   "id": "ef66178c-2aab-4f34-940b-415f8d11578f",
   "metadata": {
    "colab": {
     "base_uri": "https://localhost:8080/",
     "height": 75
    },
    "executionInfo": {
     "elapsed": 327,
     "status": "ok",
     "timestamp": 1718536124683,
     "user": {
      "displayName": "Yozhik31",
      "userId": "07739058683274005436"
     },
     "user_tz": -180
    },
    "id": "ef66178c-2aab-4f34-940b-415f8d11578f",
    "outputId": "ea9422e8-bbaf-4a05-a202-52359fc91bf1"
   },
   "outputs": [
    {
     "data": {
      "text/html": [
       "<style>#sk-container-id-1 {color: black;background-color: white;}#sk-container-id-1 pre{padding: 0;}#sk-container-id-1 div.sk-toggleable {background-color: white;}#sk-container-id-1 label.sk-toggleable__label {cursor: pointer;display: block;width: 100%;margin-bottom: 0;padding: 0.3em;box-sizing: border-box;text-align: center;}#sk-container-id-1 label.sk-toggleable__label-arrow:before {content: \"▸\";float: left;margin-right: 0.25em;color: #696969;}#sk-container-id-1 label.sk-toggleable__label-arrow:hover:before {color: black;}#sk-container-id-1 div.sk-estimator:hover label.sk-toggleable__label-arrow:before {color: black;}#sk-container-id-1 div.sk-toggleable__content {max-height: 0;max-width: 0;overflow: hidden;text-align: left;background-color: #f0f8ff;}#sk-container-id-1 div.sk-toggleable__content pre {margin: 0.2em;color: black;border-radius: 0.25em;background-color: #f0f8ff;}#sk-container-id-1 input.sk-toggleable__control:checked~div.sk-toggleable__content {max-height: 200px;max-width: 100%;overflow: auto;}#sk-container-id-1 input.sk-toggleable__control:checked~label.sk-toggleable__label-arrow:before {content: \"▾\";}#sk-container-id-1 div.sk-estimator input.sk-toggleable__control:checked~label.sk-toggleable__label {background-color: #d4ebff;}#sk-container-id-1 div.sk-label input.sk-toggleable__control:checked~label.sk-toggleable__label {background-color: #d4ebff;}#sk-container-id-1 input.sk-hidden--visually {border: 0;clip: rect(1px 1px 1px 1px);clip: rect(1px, 1px, 1px, 1px);height: 1px;margin: -1px;overflow: hidden;padding: 0;position: absolute;width: 1px;}#sk-container-id-1 div.sk-estimator {font-family: monospace;background-color: #f0f8ff;border: 1px dotted black;border-radius: 0.25em;box-sizing: border-box;margin-bottom: 0.5em;}#sk-container-id-1 div.sk-estimator:hover {background-color: #d4ebff;}#sk-container-id-1 div.sk-parallel-item::after {content: \"\";width: 100%;border-bottom: 1px solid gray;flex-grow: 1;}#sk-container-id-1 div.sk-label:hover label.sk-toggleable__label {background-color: #d4ebff;}#sk-container-id-1 div.sk-serial::before {content: \"\";position: absolute;border-left: 1px solid gray;box-sizing: border-box;top: 0;bottom: 0;left: 50%;z-index: 0;}#sk-container-id-1 div.sk-serial {display: flex;flex-direction: column;align-items: center;background-color: white;padding-right: 0.2em;padding-left: 0.2em;position: relative;}#sk-container-id-1 div.sk-item {position: relative;z-index: 1;}#sk-container-id-1 div.sk-parallel {display: flex;align-items: stretch;justify-content: center;background-color: white;position: relative;}#sk-container-id-1 div.sk-item::before, #sk-container-id-1 div.sk-parallel-item::before {content: \"\";position: absolute;border-left: 1px solid gray;box-sizing: border-box;top: 0;bottom: 0;left: 50%;z-index: -1;}#sk-container-id-1 div.sk-parallel-item {display: flex;flex-direction: column;z-index: 1;position: relative;background-color: white;}#sk-container-id-1 div.sk-parallel-item:first-child::after {align-self: flex-end;width: 50%;}#sk-container-id-1 div.sk-parallel-item:last-child::after {align-self: flex-start;width: 50%;}#sk-container-id-1 div.sk-parallel-item:only-child::after {width: 0;}#sk-container-id-1 div.sk-dashed-wrapped {border: 1px dashed gray;margin: 0 0.4em 0.5em 0.4em;box-sizing: border-box;padding-bottom: 0.4em;background-color: white;}#sk-container-id-1 div.sk-label label {font-family: monospace;font-weight: bold;display: inline-block;line-height: 1.2em;}#sk-container-id-1 div.sk-label-container {text-align: center;}#sk-container-id-1 div.sk-container {/* jupyter's `normalize.less` sets `[hidden] { display: none; }` but bootstrap.min.css set `[hidden] { display: none !important; }` so we also need the `!important` here to be able to override the default hidden behavior on the sphinx rendered scikit-learn.org. See: https://github.com/scikit-learn/scikit-learn/issues/21755 */display: inline-block !important;position: relative;}#sk-container-id-1 div.sk-text-repr-fallback {display: none;}</style><div id=\"sk-container-id-1\" class=\"sk-top-container\"><div class=\"sk-text-repr-fallback\"><pre>Lasso(alpha=0.1, random_state=42)</pre><b>In a Jupyter environment, please rerun this cell to show the HTML representation or trust the notebook. <br />On GitHub, the HTML representation is unable to render, please try loading this page with nbviewer.org.</b></div><div class=\"sk-container\" hidden><div class=\"sk-item\"><div class=\"sk-estimator sk-toggleable\"><input class=\"sk-toggleable__control sk-hidden--visually\" id=\"sk-estimator-id-1\" type=\"checkbox\" checked><label for=\"sk-estimator-id-1\" class=\"sk-toggleable__label sk-toggleable__label-arrow\">Lasso</label><div class=\"sk-toggleable__content\"><pre>Lasso(alpha=0.1, random_state=42)</pre></div></div></div></div></div>"
      ],
      "text/plain": [
       "Lasso(alpha=0.1, random_state=42)"
      ]
     },
     "execution_count": 99,
     "metadata": {},
     "output_type": "execute_result"
    }
   ],
   "source": [
    "### Ваш код здесь ###\n",
    "# Создание и обучение модели\n",
    "lasso_regression = Lasso(alpha=0.1, random_state=42) # alpha — величина регуляризации\n",
    "\n",
    "# обучение\n",
    "lasso_regression.fit(X_train, y_train)"
   ]
  },
  {
   "cell_type": "code",
   "execution_count": 100,
   "id": "iLRJqdcQzrdO",
   "metadata": {
    "colab": {
     "base_uri": "https://localhost:8080/"
    },
    "executionInfo": {
     "elapsed": 305,
     "status": "ok",
     "timestamp": 1718536129285,
     "user": {
      "displayName": "Yozhik31",
      "userId": "07739058683274005436"
     },
     "user_tz": -180
    },
    "id": "iLRJqdcQzrdO",
    "outputId": "8d9ef2b4-0728-4ee9-bcb0-60827c74820b"
   },
   "outputs": [
    {
     "name": "stdout",
     "output_type": "stream",
     "text": [
      "0.4290591834666605\n",
      "0.4119181199482287\n"
     ]
    }
   ],
   "source": [
    "# вывод точности предсказания\n",
    "print(lasso_regression.score(X_train, y_train))\n",
    "print(lasso_regression.score(X_test, y_test))"
   ]
  },
  {
   "cell_type": "markdown",
   "id": "0kJaQrWp7cPq",
   "metadata": {
    "id": "0kJaQrWp7cPq"
   },
   "source": [
    "Функция np.logspace() из библиотеки NumPy используется для генерации чисел в логарифмической шкале. Она принимает три аргумента: start, stop и num.\n",
    "start: это начальное значение логарифма, которое будет использоваться для генерации чисел. В нашем случае, start равен -3, что означает, что мы начинаем с логарифма значения 10 в степени -3, то есть 0.001.\n",
    "stop: это конечное значение логарифма, которое будет использоваться для генерации чисел. В нашем случае, stop равен 3, что означает, что мы заканчиваем на логарифме значения 10 в степени 3, то есть 1000.\n",
    "num: это количество чисел, которые будут сгенерированы в логарифмической шкале между start и stop. В нашем случае, num равен 100, поэтому будет сгенерировано 100 чисел.\n",
    "Таким образом, np.logspace(-3, 3, num=7) создает список из 100 чисел, равномерно распределенных в логарифмической шкале от 0.001 до 1000. Это позволяет нам проверить значения alpha в широком диапазоне, начиная от очень маленьких (0.001) до очень больших (1000)."
   ]
  },
  {
   "cell_type": "code",
   "execution_count": 101,
   "id": "jR3gv9ra7gRV",
   "metadata": {
    "colab": {
     "base_uri": "https://localhost:8080/"
    },
    "executionInfo": {
     "elapsed": 30761,
     "status": "ok",
     "timestamp": 1718536164045,
     "user": {
      "displayName": "Yozhik31",
      "userId": "07739058683274005436"
     },
     "user_tz": -180
    },
    "id": "jR3gv9ra7gRV",
    "outputId": "b85ede8e-4bdd-4efd-b056-90241b1f5bfe"
   },
   "outputs": [
    {
     "name": "stdout",
     "output_type": "stream",
     "text": [
      "Best alpha: 0.001\n"
     ]
    }
   ],
   "source": [
    "# Задайте список значений alpha, которые вы хотите проверить\n",
    "alpha_values = np.logspace(-3, 3, num=500)\n",
    "\n",
    "# Создайте объект модели Lasso\n",
    "lasso_model = Lasso()\n",
    "\n",
    "# Создайте объект GridSearchCV для подбора параметра alpha\n",
    "grid_search = GridSearchCV(lasso_model, {'alpha': alpha_values}, cv=5)\n",
    "\n",
    "# Обучите модель с использованием GridSearchCV\n",
    "grid_search.fit(X_train, y_train)\n",
    "\n",
    "# Выведите наилучшее значение alpha\n",
    "print(\"Best alpha:\", grid_search.best_params_['alpha'])"
   ]
  },
  {
   "cell_type": "code",
   "execution_count": 102,
   "id": "ggHup-Mp-NxP",
   "metadata": {
    "colab": {
     "base_uri": "https://localhost:8080/"
    },
    "executionInfo": {
     "elapsed": 327,
     "status": "ok",
     "timestamp": 1718536167833,
     "user": {
      "displayName": "Yozhik31",
      "userId": "07739058683274005436"
     },
     "user_tz": -180
    },
    "id": "ggHup-Mp-NxP",
    "outputId": "5b302ef3-4e52-439a-cc78-508b9f06dabf"
   },
   "outputs": [
    {
     "name": "stdout",
     "output_type": "stream",
     "text": [
      "Weights of the model:\n",
      "LotArea: 0.14069967908004424\n",
      "Street: -0.0\n",
      "BldgType: 0.005034558314566026\n",
      "OverallQual: 0.5422710282494737\n",
      "OverallCond: 0.21926506610000462\n",
      "RoofStyle: 0.012349953575121246\n",
      "ExterQual: -0.03097970650190691\n",
      "ExterCond: 0.010390414470502323\n",
      "Foundation: 0.02523694258101956\n",
      "TotalBsmtSF: 0.02992033001745238\n",
      "Heating: -0.0\n",
      "HeatingQC: -0.005111368810825808\n",
      "CentralAir: 0.13454730797650233\n",
      "GrLivArea: 0.35998052851787093\n",
      "Bath: 0.03032269927020206\n",
      "KitchenQual: -0.04186344384582989\n",
      "GarageArea: 0.032406948176541286\n",
      "SaleCondition: 0.013209934866436958\n",
      "age: -0.05779347564038964\n",
      "age_RemodAdd_DateSold: -0.0018634364822291145\n",
      "Train MSE: 0.023464267047947362\n",
      "Test MSE: 0.02329275759840077\n",
      "Train R2: 0.8486211888109487\n",
      "Test R2: 0.8626962014625978\n"
     ]
    }
   ],
   "source": [
    "# Обучаем модель с наилучшим значением alpha\n",
    "model = Lasso(alpha=0.001, random_state=42)\n",
    "model.fit(X_train, y_train)\n",
    "\n",
    "# Вывод весов модели\n",
    "print(\"Weights of the model:\")\n",
    "for feature, weight in zip(X.columns, model.coef_):\n",
    "    print(f\"{feature}: {weight}\")\n",
    "\n",
    "# Предсказание на тренировочной и тестовой выборках\n",
    "y_predict_train = model.predict(X_train)\n",
    "y_predict_test = model.predict(X_test)\n",
    "\n",
    "# Вычисление среднеквадратичной ошибки\n",
    "train_mse = mean_squared_error(y_train, y_predict_train)\n",
    "test_mse = mean_squared_error(y_test, y_predict_test)\n",
    "\n",
    "# Вывод среднеквадратичной ошибки\n",
    "print(\"Train MSE: {}\".format(train_mse))\n",
    "print(\"Test MSE: {}\".format(test_mse))\n",
    "\n",
    "#Вычисление  коэффициента детерминации\n",
    "train_r2 = r2_score(y_train, y_predict_train)\n",
    "test_r2 = r2_score(y_test, y_predict_test)\n",
    "\n",
    "# Вывод коэффициента детерминации\n",
    "print(\"Train R2: {}\".format(train_r2))\n",
    "print(\"Test R2: {}\".format(test_r2))"
   ]
  },
  {
   "cell_type": "code",
   "execution_count": 103,
   "id": "XtYwbqdAvSNb",
   "metadata": {
    "colab": {
     "base_uri": "https://localhost:8080/"
    },
    "executionInfo": {
     "elapsed": 368,
     "status": "ok",
     "timestamp": 1718536206003,
     "user": {
      "displayName": "Yozhik31",
      "userId": "07739058683274005436"
     },
     "user_tz": -180
    },
    "id": "XtYwbqdAvSNb",
    "outputId": "af39a257-1ac6-463f-8624-5c0a1d2d8126"
   },
   "outputs": [
    {
     "name": "stdout",
     "output_type": "stream",
     "text": [
      "Weights in descending order:\n",
      "0.5422710282494737\n",
      "0.35998052851787093\n",
      "0.21926506610000462\n",
      "0.14069967908004424\n",
      "0.13454730797650233\n",
      "0.032406948176541286\n",
      "0.03032269927020206\n",
      "0.02992033001745238\n",
      "0.02523694258101956\n",
      "0.013209934866436958\n",
      "0.012349953575121246\n",
      "0.010390414470502323\n",
      "0.005034558314566026\n",
      "-0.0\n",
      "-0.0\n",
      "-0.0018634364822291145\n",
      "-0.005111368810825808\n",
      "-0.03097970650190691\n",
      "-0.04186344384582989\n",
      "-0.05779347564038964\n"
     ]
    }
   ],
   "source": [
    "# Получите веса модели\n",
    "weights = model.coef_\n",
    "\n",
    "# Отсортируйте веса в порядке убывания\n",
    "sorted_weights = sorted(weights, reverse=True)\n",
    "\n",
    "# Выведите веса в порядке убывания\n",
    "print(\"Weights in descending order:\")\n",
    "for weight in sorted_weights:\n",
    "    print(weight)"
   ]
  },
  {
   "cell_type": "code",
   "execution_count": 104,
   "id": "fcNXDzBfvYud",
   "metadata": {
    "colab": {
     "base_uri": "https://localhost:8080/"
    },
    "executionInfo": {
     "elapsed": 473,
     "status": "ok",
     "timestamp": 1718536236755,
     "user": {
      "displayName": "Yozhik31",
      "userId": "07739058683274005436"
     },
     "user_tz": -180
    },
    "id": "fcNXDzBfvYud",
    "outputId": "1582c8e2-9f8b-4099-c930-48ed906b9be6"
   },
   "outputs": [
    {
     "name": "stdout",
     "output_type": "stream",
     "text": [
      "                  Feature   Weight\n",
      "0             OverallQual  0.54227\n",
      "1               GrLivArea  0.35998\n",
      "2             OverallCond  0.21927\n",
      "3                 LotArea  0.14070\n",
      "4              CentralAir  0.13455\n",
      "5              GarageArea  0.03241\n",
      "6                    Bath  0.03032\n",
      "7             TotalBsmtSF  0.02992\n",
      "8              Foundation  0.02524\n",
      "9           SaleCondition  0.01321\n",
      "10              RoofStyle  0.01235\n",
      "11              ExterCond  0.01039\n",
      "12               BldgType  0.00503\n",
      "13                 Street -0.00000\n",
      "14                Heating -0.00000\n",
      "15  age_RemodAdd_DateSold -0.00186\n",
      "16              HeatingQC -0.00511\n",
      "17              ExterQual -0.03098\n",
      "18            KitchenQual -0.04186\n",
      "19                    age -0.05779\n"
     ]
    }
   ],
   "source": [
    "# Создайте список пар (название признака, вес)\n",
    "feature_weights = list(zip(X.columns, weights))\n",
    "\n",
    "# Отсортируйте список пар по весам в порядке убывания\n",
    "sorted_feature_weights = sorted(feature_weights, key=lambda x: x[1], reverse=True)\n",
    "\n",
    "# Создайте отдельный датафрейм с названиями признаков и их весами\n",
    "weights_df = pd.DataFrame(sorted_feature_weights, columns=['Feature', 'Weight'])\n",
    "\n",
    "# Округлите веса до 5 цифр после запятой\n",
    "weights_df['Weight'] = weights_df['Weight'].round(5)\n",
    "\n",
    "# Выведите датафрейм с названиями признаков и их весами\n",
    "print(weights_df)"
   ]
  },
  {
   "cell_type": "markdown",
   "id": "e61717db-f329-487e-9207-c71e696caad1",
   "metadata": {
    "id": "e61717db-f329-487e-9207-c71e696caad1"
   },
   "source": [
    "Посмотрите на веса полученной модели. Какой вывод можно сделать?"
   ]
  },
  {
   "cell_type": "markdown",
   "id": "zZqY9Tq__oSz",
   "metadata": {
    "id": "zZqY9Tq__oSz"
   },
   "source": [
    "Веса модели  с L1-регуляризацией снизили. У переменных Street и Heating веса обнулились. При этом качество модели незначитеельно ухудшилось. Исходные числовые переменные были изночально нормализованы логарифмическим преобразованием. Я считаю, что в данном случаe дополнительная регулиризация усложнила модель и снизила её эффективность."
   ]
  },
  {
   "cell_type": "markdown",
   "id": "e6705d74-18e1-4de6-9002-9e1cb2cb5868",
   "metadata": {
    "id": "e6705d74-18e1-4de6-9002-9e1cb2cb5868"
   },
   "source": [
    "3. Понаблюдайте, как ведёт себя модель с L2-регуляризацией (Ridge). Найдите лучший параметр регуляризации. Сделайте предсказания по обучающей и тестовой выборкам, замерьте качество с помощью MAE, MSE, $R^2$. Для воспроизводимости результатов задайте параметр `random_state=42` при определении модели Ridge."
   ]
  },
  {
   "cell_type": "code",
   "execution_count": 105,
   "id": "2d85fb11-2a4f-4d70-bcd9-3380ca172ca7",
   "metadata": {
    "colab": {
     "base_uri": "https://localhost:8080/",
     "height": 75
    },
    "executionInfo": {
     "elapsed": 334,
     "status": "ok",
     "timestamp": 1718538069955,
     "user": {
      "displayName": "Yozhik31",
      "userId": "07739058683274005436"
     },
     "user_tz": -180
    },
    "id": "2d85fb11-2a4f-4d70-bcd9-3380ca172ca7",
    "outputId": "bbe870fc-6d9f-4000-ad65-17fe14e90a9d"
   },
   "outputs": [
    {
     "data": {
      "text/html": [
       "<style>#sk-container-id-2 {color: black;background-color: white;}#sk-container-id-2 pre{padding: 0;}#sk-container-id-2 div.sk-toggleable {background-color: white;}#sk-container-id-2 label.sk-toggleable__label {cursor: pointer;display: block;width: 100%;margin-bottom: 0;padding: 0.3em;box-sizing: border-box;text-align: center;}#sk-container-id-2 label.sk-toggleable__label-arrow:before {content: \"▸\";float: left;margin-right: 0.25em;color: #696969;}#sk-container-id-2 label.sk-toggleable__label-arrow:hover:before {color: black;}#sk-container-id-2 div.sk-estimator:hover label.sk-toggleable__label-arrow:before {color: black;}#sk-container-id-2 div.sk-toggleable__content {max-height: 0;max-width: 0;overflow: hidden;text-align: left;background-color: #f0f8ff;}#sk-container-id-2 div.sk-toggleable__content pre {margin: 0.2em;color: black;border-radius: 0.25em;background-color: #f0f8ff;}#sk-container-id-2 input.sk-toggleable__control:checked~div.sk-toggleable__content {max-height: 200px;max-width: 100%;overflow: auto;}#sk-container-id-2 input.sk-toggleable__control:checked~label.sk-toggleable__label-arrow:before {content: \"▾\";}#sk-container-id-2 div.sk-estimator input.sk-toggleable__control:checked~label.sk-toggleable__label {background-color: #d4ebff;}#sk-container-id-2 div.sk-label input.sk-toggleable__control:checked~label.sk-toggleable__label {background-color: #d4ebff;}#sk-container-id-2 input.sk-hidden--visually {border: 0;clip: rect(1px 1px 1px 1px);clip: rect(1px, 1px, 1px, 1px);height: 1px;margin: -1px;overflow: hidden;padding: 0;position: absolute;width: 1px;}#sk-container-id-2 div.sk-estimator {font-family: monospace;background-color: #f0f8ff;border: 1px dotted black;border-radius: 0.25em;box-sizing: border-box;margin-bottom: 0.5em;}#sk-container-id-2 div.sk-estimator:hover {background-color: #d4ebff;}#sk-container-id-2 div.sk-parallel-item::after {content: \"\";width: 100%;border-bottom: 1px solid gray;flex-grow: 1;}#sk-container-id-2 div.sk-label:hover label.sk-toggleable__label {background-color: #d4ebff;}#sk-container-id-2 div.sk-serial::before {content: \"\";position: absolute;border-left: 1px solid gray;box-sizing: border-box;top: 0;bottom: 0;left: 50%;z-index: 0;}#sk-container-id-2 div.sk-serial {display: flex;flex-direction: column;align-items: center;background-color: white;padding-right: 0.2em;padding-left: 0.2em;position: relative;}#sk-container-id-2 div.sk-item {position: relative;z-index: 1;}#sk-container-id-2 div.sk-parallel {display: flex;align-items: stretch;justify-content: center;background-color: white;position: relative;}#sk-container-id-2 div.sk-item::before, #sk-container-id-2 div.sk-parallel-item::before {content: \"\";position: absolute;border-left: 1px solid gray;box-sizing: border-box;top: 0;bottom: 0;left: 50%;z-index: -1;}#sk-container-id-2 div.sk-parallel-item {display: flex;flex-direction: column;z-index: 1;position: relative;background-color: white;}#sk-container-id-2 div.sk-parallel-item:first-child::after {align-self: flex-end;width: 50%;}#sk-container-id-2 div.sk-parallel-item:last-child::after {align-self: flex-start;width: 50%;}#sk-container-id-2 div.sk-parallel-item:only-child::after {width: 0;}#sk-container-id-2 div.sk-dashed-wrapped {border: 1px dashed gray;margin: 0 0.4em 0.5em 0.4em;box-sizing: border-box;padding-bottom: 0.4em;background-color: white;}#sk-container-id-2 div.sk-label label {font-family: monospace;font-weight: bold;display: inline-block;line-height: 1.2em;}#sk-container-id-2 div.sk-label-container {text-align: center;}#sk-container-id-2 div.sk-container {/* jupyter's `normalize.less` sets `[hidden] { display: none; }` but bootstrap.min.css set `[hidden] { display: none !important; }` so we also need the `!important` here to be able to override the default hidden behavior on the sphinx rendered scikit-learn.org. See: https://github.com/scikit-learn/scikit-learn/issues/21755 */display: inline-block !important;position: relative;}#sk-container-id-2 div.sk-text-repr-fallback {display: none;}</style><div id=\"sk-container-id-2\" class=\"sk-top-container\"><div class=\"sk-text-repr-fallback\"><pre>Ridge(alpha=0.1, random_state=42)</pre><b>In a Jupyter environment, please rerun this cell to show the HTML representation or trust the notebook. <br />On GitHub, the HTML representation is unable to render, please try loading this page with nbviewer.org.</b></div><div class=\"sk-container\" hidden><div class=\"sk-item\"><div class=\"sk-estimator sk-toggleable\"><input class=\"sk-toggleable__control sk-hidden--visually\" id=\"sk-estimator-id-2\" type=\"checkbox\" checked><label for=\"sk-estimator-id-2\" class=\"sk-toggleable__label sk-toggleable__label-arrow\">Ridge</label><div class=\"sk-toggleable__content\"><pre>Ridge(alpha=0.1, random_state=42)</pre></div></div></div></div></div>"
      ],
      "text/plain": [
       "Ridge(alpha=0.1, random_state=42)"
      ]
     },
     "execution_count": 105,
     "metadata": {},
     "output_type": "execute_result"
    }
   ],
   "source": [
    "### Ваш код здесь ###\n",
    "ridge_regression = Ridge(alpha=0.1, random_state=42)  # alpha — величина регуляризации\n",
    "\n",
    "# обучение\n",
    "ridge_regression.fit(X_train, y_train)"
   ]
  },
  {
   "cell_type": "code",
   "execution_count": 106,
   "id": "ppROuUEs2jWb",
   "metadata": {
    "colab": {
     "base_uri": "https://localhost:8080/"
    },
    "executionInfo": {
     "elapsed": 449,
     "status": "ok",
     "timestamp": 1718538094220,
     "user": {
      "displayName": "Yozhik31",
      "userId": "07739058683274005436"
     },
     "user_tz": -180
    },
    "id": "ppROuUEs2jWb",
    "outputId": "2678d54a-5ca4-47f4-8100-733c51c9e4be"
   },
   "outputs": [
    {
     "name": "stdout",
     "output_type": "stream",
     "text": [
      "0.8494663923971191\n",
      "0.8654439482802512\n"
     ]
    }
   ],
   "source": [
    "# вывод точности предсказания\n",
    "print(ridge_regression.score(X_train, y_train))\n",
    "print(ridge_regression.score(X_test, y_test))"
   ]
  },
  {
   "cell_type": "code",
   "execution_count": 107,
   "id": "TSUk5HMF3Fwv",
   "metadata": {
    "colab": {
     "base_uri": "https://localhost:8080/"
    },
    "executionInfo": {
     "elapsed": 5448,
     "status": "ok",
     "timestamp": 1718538241090,
     "user": {
      "displayName": "Yozhik31",
      "userId": "07739058683274005436"
     },
     "user_tz": -180
    },
    "id": "TSUk5HMF3Fwv",
    "outputId": "62bc6031-ce13-4dd8-c269-fa2913605121"
   },
   "outputs": [
    {
     "name": "stdout",
     "output_type": "stream",
     "text": [
      "Best alpha: 1.629750834620645\n"
     ]
    }
   ],
   "source": [
    "# Задайте список значений alpha, которые вы хотите проверить\n",
    "alpha_values = np.logspace(-3, 3, num=100)\n",
    "\n",
    "# Создайте объект модели Lasso\n",
    "ridge_model = Ridge() #lasso_model = Lasso()\n",
    "\n",
    "# Создайте объект GridSearchCV для подбора параметра alpha\n",
    "grid_search = GridSearchCV(ridge_model, {'alpha': alpha_values}, cv=5)\n",
    "\n",
    "# Обучите модель с использованием GridSearchCV\n",
    "grid_search.fit(X_train, y_train)\n",
    "\n",
    "# Выведите наилучшее значение alpha\n",
    "print(\"Best alpha:\", grid_search.best_params_['alpha'])\n"
   ]
  },
  {
   "cell_type": "code",
   "execution_count": 108,
   "id": "MMOr63v43aU6",
   "metadata": {
    "colab": {
     "base_uri": "https://localhost:8080/"
    },
    "executionInfo": {
     "elapsed": 405,
     "status": "ok",
     "timestamp": 1718538379956,
     "user": {
      "displayName": "Yozhik31",
      "userId": "07739058683274005436"
     },
     "user_tz": -180
    },
    "id": "MMOr63v43aU6",
    "outputId": "3f2f7d49-bbdb-4014-f145-f50967428963"
   },
   "outputs": [
    {
     "name": "stdout",
     "output_type": "stream",
     "text": [
      "Weights of the model:\n",
      "LotArea: 0.14646059100276718\n",
      "Street: -0.008680689266291335\n",
      "BldgType: 0.0069524675410177475\n",
      "OverallQual: 0.5208590697559217\n",
      "OverallCond: 0.2609260836985128\n",
      "RoofStyle: 0.014031875509690168\n",
      "ExterQual: -0.033428883275222164\n",
      "ExterCond: 0.012306476850888487\n",
      "Foundation: 0.027645241044420614\n",
      "TotalBsmtSF: 0.031458116043135864\n",
      "Heating: 0.0020863160790821848\n",
      "HeatingQC: -0.0048974958429764065\n",
      "CentralAir: 0.1423612875913571\n",
      "GrLivArea: 0.34580900423946376\n",
      "Bath: 0.0750921796034175\n",
      "KitchenQual: -0.043706152529619124\n",
      "GarageArea: 0.03184471327070765\n",
      "SaleCondition: 0.013295378517333489\n",
      "age: -0.05771047669438429\n",
      "age_RemodAdd_DateSold: 0.00045192892303878287\n",
      "Train MSE: 0.02338834830788705\n",
      "Test MSE: 0.023014769053710964\n",
      "Train R2: 0.8491109756256751\n",
      "Test R2: 0.8643348603021341\n"
     ]
    }
   ],
   "source": [
    "# Обучаем модель с наилучшим значением alpha\n",
    "model = Ridge(alpha=1.63, random_state=42)\n",
    "model.fit(X_train, y_train)\n",
    "\n",
    "# Вывод весов модели\n",
    "print(\"Weights of the model:\")\n",
    "for feature, weight in zip(X.columns, model.coef_):\n",
    "    print(f\"{feature}: {weight}\")\n",
    "\n",
    "# Предсказание на тренировочной и тестовой выборках\n",
    "y_predict_train = model.predict(X_train)\n",
    "y_predict_test = model.predict(X_test)\n",
    "\n",
    "# Вычисление среднеквадратичной ошибки\n",
    "train_mse = mean_squared_error(y_train, y_predict_train)\n",
    "test_mse = mean_squared_error(y_test, y_predict_test)\n",
    "\n",
    "# Вывод среднеквадратичной ошибки\n",
    "print(\"Train MSE: {}\".format(train_mse))\n",
    "print(\"Test MSE: {}\".format(test_mse))\n",
    "\n",
    "#Вычисление  коэффициента детерминации\n",
    "train_r2 = r2_score(y_train, y_predict_train)\n",
    "test_r2 = r2_score(y_test, y_predict_test)\n",
    "\n",
    "# Вывод коэффициента детерминации\n",
    "print(\"Train R2: {}\".format(train_r2))\n",
    "print(\"Test R2: {}\".format(test_r2))"
   ]
  },
  {
   "cell_type": "code",
   "execution_count": 109,
   "id": "pQ_j6Ep74CpX",
   "metadata": {
    "colab": {
     "base_uri": "https://localhost:8080/"
    },
    "executionInfo": {
     "elapsed": 409,
     "status": "ok",
     "timestamp": 1718538485154,
     "user": {
      "displayName": "Yozhik31",
      "userId": "07739058683274005436"
     },
     "user_tz": -180
    },
    "id": "pQ_j6Ep74CpX",
    "outputId": "eb40eb36-b486-4bf4-e458-22d12ce59e26"
   },
   "outputs": [
    {
     "name": "stdout",
     "output_type": "stream",
     "text": [
      "Weights in descending order:\n",
      "0.5208590697559217\n",
      "0.34580900423946376\n",
      "0.2609260836985128\n",
      "0.14646059100276718\n",
      "0.1423612875913571\n",
      "0.0750921796034175\n",
      "0.03184471327070765\n",
      "0.031458116043135864\n",
      "0.027645241044420614\n",
      "0.014031875509690168\n",
      "0.013295378517333489\n",
      "0.012306476850888487\n",
      "0.0069524675410177475\n",
      "0.0020863160790821848\n",
      "0.00045192892303878287\n",
      "-0.0048974958429764065\n",
      "-0.008680689266291335\n",
      "-0.033428883275222164\n",
      "-0.043706152529619124\n",
      "-0.05771047669438429\n"
     ]
    }
   ],
   "source": [
    "# Получите веса модели\n",
    "weights = model.coef_\n",
    "\n",
    "# Отсортируйте веса в порядке убывания\n",
    "sorted_weights = sorted(weights, reverse=True)\n",
    "\n",
    "# Выведите веса в порядке убывания\n",
    "print(\"Weights in descending order:\")\n",
    "for weight in sorted_weights:\n",
    "    print(weight)"
   ]
  },
  {
   "cell_type": "code",
   "execution_count": 110,
   "id": "BZp09F2U4Fdc",
   "metadata": {
    "colab": {
     "base_uri": "https://localhost:8080/"
    },
    "executionInfo": {
     "elapsed": 309,
     "status": "ok",
     "timestamp": 1718538514929,
     "user": {
      "displayName": "Yozhik31",
      "userId": "07739058683274005436"
     },
     "user_tz": -180
    },
    "id": "BZp09F2U4Fdc",
    "outputId": "7ebba492-3e44-4419-94d6-7564244c48ea"
   },
   "outputs": [
    {
     "name": "stdout",
     "output_type": "stream",
     "text": [
      "                  Feature   Weight\n",
      "0             OverallQual  0.52086\n",
      "1               GrLivArea  0.34581\n",
      "2             OverallCond  0.26093\n",
      "3                 LotArea  0.14646\n",
      "4              CentralAir  0.14236\n",
      "5                    Bath  0.07509\n",
      "6              GarageArea  0.03184\n",
      "7             TotalBsmtSF  0.03146\n",
      "8              Foundation  0.02765\n",
      "9               RoofStyle  0.01403\n",
      "10          SaleCondition  0.01330\n",
      "11              ExterCond  0.01231\n",
      "12               BldgType  0.00695\n",
      "13                Heating  0.00209\n",
      "14  age_RemodAdd_DateSold  0.00045\n",
      "15              HeatingQC -0.00490\n",
      "16                 Street -0.00868\n",
      "17              ExterQual -0.03343\n",
      "18            KitchenQual -0.04371\n",
      "19                    age -0.05771\n"
     ]
    }
   ],
   "source": [
    "# Создайте список пар (название признака, вес)\n",
    "feature_weights = list(zip(X.columns, weights))\n",
    "\n",
    "# Отсортируйте список пар по весам в порядке убывания\n",
    "sorted_feature_weights = sorted(feature_weights, key=lambda x: x[1], reverse=True)\n",
    "\n",
    "# Создайте отдельный датафрейм с названиями признаков и их весами\n",
    "weights_df = pd.DataFrame(sorted_feature_weights, columns=['Feature', 'Weight'])\n",
    "\n",
    "# Округлите веса до 5 цифр после запятой\n",
    "weights_df['Weight'] = weights_df['Weight'].round(5)\n",
    "\n",
    "# Выведите датафрейм с названиями признаков и их весами\n",
    "print(weights_df)"
   ]
  },
  {
   "cell_type": "markdown",
   "id": "e567489f-e795-4422-a5d0-80ecb32f76ff",
   "metadata": {
    "id": "e567489f-e795-4422-a5d0-80ecb32f76ff"
   },
   "source": [
    "Посмотрите на веса полученной модели. Какой вывод можно сделать?"
   ]
  },
  {
   "cell_type": "markdown",
   "id": "r7skK7r8PKTj",
   "metadata": {
    "id": "r7skK7r8PKTj"
   },
   "source": [
    "При L2-регуляризации веса полученной модели снижены равномерно без абсолютного обнуления. L2-регуляризация делает модель более \"гладкой\" и менее подверженной влиянию шума в данных."
   ]
  },
  {
   "cell_type": "markdown",
   "id": "d6ca7e16-9755-4e68-88e2-927712c24126",
   "metadata": {
    "id": "d6ca7e16-9755-4e68-88e2-927712c24126",
    "tags": []
   },
   "source": [
    "## Задание 6\n",
    "\n",
    "Ответьте на следующие вопросы:\n",
    "\n",
    "1. В последней обученной модели выберите три признака с наибольшими положительными коэффициентами. Можно ли утверждать, что чем больше значения этих признаков, тем больше сумма сделки?"
   ]
  },
  {
   "cell_type": "markdown",
   "id": "aekibPQowRMi",
   "metadata": {
    "id": "aekibPQowRMi"
   },
   "source": [
    "В последней обученной модели признаки  с наибольшими положительными коэффициентами:\n",
    "- OverallQual(общее качество материала и отделки) = 0.52086;\n",
    "- GrLivArea(жилая площадь в квадратных футах) = 0.34581;\n",
    "- OverallCond(общая оценка состояния) = 0.26093\n"
   ]
  },
  {
   "cell_type": "markdown",
   "id": "X98QFqU-QHSP",
   "metadata": {
    "id": "X98QFqU-QHSP"
   },
   "source": [
    "Утверждение, что чем больше значения этих признаков, тем больше сумма сделки статистически подтверждается.\n"
   ]
  },
  {
   "cell_type": "markdown",
   "id": "ea281704-3792-4ce0-ad1a-3102071ebf76",
   "metadata": {
    "id": "ea281704-3792-4ce0-ad1a-3102071ebf76"
   },
   "source": [
    "2. В последней обученной модели выберите три признака с наибольшими отрицательными коэффициентами. Можно ли утверждать, что чем больше значения этих признаков, тем меньше сумма сделки?"
   ]
  },
  {
   "cell_type": "markdown",
   "id": "aSnTx_1eQeua",
   "metadata": {
    "id": "aSnTx_1eQeua"
   },
   "source": [
    "В последней обученной модели признаки с наибольшими отрицательными коэффициентами:\n",
    "- age(возраст дома - сконструированный мной признак) = - 0.05771\n",
    "- KitchenQual(качество кухни)= -0.04371\n",
    "- ExterQual(качество материалов снаружи) =  -0.03343\n"
   ]
  },
  {
   "cell_type": "markdown",
   "id": "oMVtRYmUSDgI",
   "metadata": {
    "id": "oMVtRYmUSDgI"
   },
   "source": [
    "Утверждение, что чем больше значения этих признаков, тем меньше сумма сделки статистически подтверждается.  "
   ]
  },
  {
   "cell_type": "markdown",
   "id": "72c5cd88-4271-49fd-8aab-3c86855091a4",
   "metadata": {
    "id": "72c5cd88-4271-49fd-8aab-3c86855091a4"
   },
   "source": [
    "3. В модели Lasso выберите три признака с нулевыми коэффициентами. Как вы думаете, почему модель их исключила? Можно ли смело утверждать, что сумма сделки от этих признаков не зависит?"
   ]
  },
  {
   "cell_type": "markdown",
   "id": "T22ARypEOQD-",
   "metadata": {
    "id": "T22ARypEOQD-"
   },
   "source": [
    "Утверждение, что сумма сделки от этих признаков не зависит статистически подтверждается."
   ]
  },
  {
   "cell_type": "markdown",
   "id": "79f05e78-ec1c-4116-9217-24066dd9a53d",
   "metadata": {
    "id": "79f05e78-ec1c-4116-9217-24066dd9a53d"
   },
   "source": [
    "## Заключение\n",
    "\n",
    "В этом модуле с помощью регуляризации вы научились обучать модели линейной регрессии с регуляризацией, подбирать коэффициент регуляризации alpha, а также отбирать признаки с помощью L1-регуляризации."
   ]
  },
  {
   "cell_type": "code",
   "execution_count": null,
   "id": "ee45d447",
   "metadata": {},
   "outputs": [],
   "source": []
  }
 ],
 "metadata": {
  "colab": {
   "provenance": []
  },
  "kernelspec": {
   "display_name": "Python 3 (ipykernel)",
   "language": "python",
   "name": "python3"
  },
  "language_info": {
   "codemirror_mode": {
    "name": "ipython",
    "version": 3
   },
   "file_extension": ".py",
   "mimetype": "text/x-python",
   "name": "python",
   "nbconvert_exporter": "python",
   "pygments_lexer": "ipython3",
   "version": "3.11.7"
  }
 },
 "nbformat": 4,
 "nbformat_minor": 5
}
